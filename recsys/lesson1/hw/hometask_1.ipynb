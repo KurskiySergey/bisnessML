{
 "cells": [
  {
   "cell_type": "code",
   "execution_count": 46,
   "id": "cb79010e-3619-490b-8a29-ce52fd349f63",
   "metadata": {
    "tags": []
   },
   "outputs": [],
   "source": [
    "import pandas as pd\n",
    "import numpy as np\n",
    "from random import randint, seed"
   ]
  },
  {
   "cell_type": "code",
   "execution_count": 47,
   "id": "b3e01a1e-ca92-4394-85c0-ebdb4a136cff",
   "metadata": {
    "tags": []
   },
   "outputs": [],
   "source": [
    "random_state = 42\n",
    "seed(random_state)\n",
    "#id list\n",
    "recommended_list = [143, 156, 1134, 991, 27, 1543, 3345, 533, 11, 43]\n",
    "\n",
    "# generate prices\n",
    "recommended_prices = [randint(10, 10000) for _ in range(len(recommended_list))]\n",
    "\n",
    "#bought id list\n",
    "bought_list = [521, 32, 143, 991]\n",
    "\n",
    "# generate prices for bought items\n",
    "bought_prices = []\n",
    "\n",
    "for item in bought_list:\n",
    "    try:\n",
    "        index = recommended_list.index(item)\n",
    "        bought_prices.append(recommended_prices[index])\n",
    "    except ValueError:\n",
    "        bought_prices.append(randint(10, 10000))"
   ]
  },
  {
   "cell_type": "code",
   "execution_count": 48,
   "id": "b9a11fab-9893-49c8-ae32-af08d668a5f2",
   "metadata": {
    "tags": []
   },
   "outputs": [
    {
     "data": {
      "text/plain": [
       "[1834, 419, 4516, 4022, 3667, 2296, 1689, 8945, 1434, 9684]"
      ]
     },
     "execution_count": 48,
     "metadata": {},
     "output_type": "execute_result"
    }
   ],
   "source": [
    "recommended_prices"
   ]
  },
  {
   "cell_type": "code",
   "execution_count": 49,
   "id": "a474d769-6039-42f2-9b37-61d31a2b7159",
   "metadata": {
    "tags": []
   },
   "outputs": [
    {
     "data": {
      "text/plain": [
       "[6922, 530, 1834, 4022]"
      ]
     },
     "execution_count": 49,
     "metadata": {},
     "output_type": "execute_result"
    }
   ],
   "source": [
    "bought_prices"
   ]
  },
  {
   "cell_type": "markdown",
   "id": "c8da70ea-968e-4a68-9754-16a104207f3c",
   "metadata": {
    "tags": []
   },
   "source": [
    "## Задание 1. Реализовать метрики Recall@k и  Money Recall@k\n",
    "\n",
    "*Recall* - доля рекомендованных товаров среди релевантных = Какой % купленных товаров был среди рекомендованных\n",
    "\n",
    "$$\\Large Recall@K(i) = \\frac {\\sum_{j=1}^{K}\\mathbb{1}_{r_{ij}}}{|Rel_i|}$$\n",
    "\n",
    "$\\Large |Rel_i|$ -- количество релевантных товаров для пользователя $i$\n",
    "\n",
    "$$\\Large MoneyRecall@K(i) = \\frac {\\sum_{j=1}^{K}\\mathbb{1}_{r_{ij}}\\cdot Price(j)}{\\sum_{s\\in Rel_i}Price(s)}$$"
   ]
  },
  {
   "cell_type": "code",
   "execution_count": 74,
   "id": "d7df4ca5-aa5f-432c-9c1c-993e58708040",
   "metadata": {
    "tags": []
   },
   "outputs": [],
   "source": [
    "def indicate_at_k(recommended_list: list, bought_list: list, k=-1):\n",
    "    recommended_list = np.asarray(recommended_list) if k == -1 else np.asarray(recommended_list)[:k]\n",
    "    bought_list = np.asarray(bought_list)\n",
    "    \n",
    "    return np.isin(recommended_list, bought_list)\n",
    "    "
   ]
  },
  {
   "cell_type": "code",
   "execution_count": 75,
   "id": "a26b25f3-9654-4488-b756-be9024803cb5",
   "metadata": {
    "tags": []
   },
   "outputs": [],
   "source": [
    "def recall_at_k(recommended_list: list, bought_list: list, k =-1):\n",
    "    if len(bought_list) == 0:\n",
    "        result = 0\n",
    "    else:\n",
    "        indication = indicate_at_k(recommended_list, bought_list, k=k)\n",
    "        result = indication.sum() / len(bought_list)\n",
    "    return result"
   ]
  },
  {
   "cell_type": "code",
   "execution_count": 76,
   "id": "63c9585a-9910-43fa-9471-8895a98d630c",
   "metadata": {
    "tags": []
   },
   "outputs": [],
   "source": [
    "def money_recall_at_k(recommended_list: list, bought_list: list, recommended_prices: list, bought_prices: list, k=-1):\n",
    "    if len(bought_list) == 0:\n",
    "        result = 0\n",
    "    else:\n",
    "        rec_prices = np.asarray(recommended_prices) if k == -1 else np.asarray(recommended_prices)[:k]\n",
    "        buy_prices = np.asarray(bought_prices)\n",
    "        indication = indicate_at_k(recommended_list, bought_list, k=k)\n",
    "        \n",
    "        result = np.sum(indication * rec_prices) / buy_prices.sum()\n",
    "        \n",
    "    return result\n",
    "        "
   ]
  },
  {
   "cell_type": "markdown",
   "id": "8098cd02-2fad-4cb4-af4e-c8d8d11fbaf5",
   "metadata": {},
   "source": [
    "Examles"
   ]
  },
  {
   "cell_type": "code",
   "execution_count": 77,
   "id": "f06c7f9b-e042-4ce5-9002-dd5c89510c78",
   "metadata": {
    "tags": []
   },
   "outputs": [
    {
     "data": {
      "text/plain": [
       "array([ True, False, False,  True, False, False, False, False, False,\n",
       "       False])"
      ]
     },
     "execution_count": 77,
     "metadata": {},
     "output_type": "execute_result"
    }
   ],
   "source": [
    "# indication\n",
    "result = indicate_at_k(recommended_list, bought_list)\n",
    "result"
   ]
  },
  {
   "cell_type": "code",
   "execution_count": 78,
   "id": "f11f5373-ed65-4f1f-8683-2eb28656dc1a",
   "metadata": {
    "tags": []
   },
   "outputs": [
    {
     "data": {
      "text/plain": [
       "array([ True, False, False,  True, False])"
      ]
     },
     "execution_count": 78,
     "metadata": {},
     "output_type": "execute_result"
    }
   ],
   "source": [
    "# indicate at 5\n",
    "result_5 = indicate_at_k(recommended_list, bought_list, k = 5)\n",
    "result_5"
   ]
  },
  {
   "cell_type": "code",
   "execution_count": 81,
   "id": "4117d0e5-d05a-4190-acb2-4fe45cbaeb11",
   "metadata": {
    "tags": []
   },
   "outputs": [
    {
     "data": {
      "text/plain": [
       "0.5"
      ]
     },
     "execution_count": 81,
     "metadata": {},
     "output_type": "execute_result"
    }
   ],
   "source": [
    "#recall\n",
    "recall_result = recall_at_k(recommended_list, bought_list)\n",
    "recall_result # indication == 2 ; numer of items = 4 => recall = 2 / 4 = 0.5"
   ]
  },
  {
   "cell_type": "code",
   "execution_count": 86,
   "id": "f65d77b7-55c3-4e9e-bd5a-b57dfd1220ec",
   "metadata": {
    "tags": []
   },
   "outputs": [
    {
     "data": {
      "text/plain": [
       "0.25"
      ]
     },
     "execution_count": 86,
     "metadata": {},
     "output_type": "execute_result"
    }
   ],
   "source": [
    "#recall at 3\n",
    "recall_at_3 = recall_at_k(recommended_list, bought_list, k=3)\n",
    "recall_at_3 # indication = 1 => recall = 1/4 = 0.25"
   ]
  },
  {
   "cell_type": "code",
   "execution_count": 88,
   "id": "0942afa1-0c18-457f-a4ef-70750b7c1d2f",
   "metadata": {
    "tags": []
   },
   "outputs": [
    {
     "data": {
      "text/plain": [
       "0.4400360685302074"
      ]
     },
     "execution_count": 88,
     "metadata": {},
     "output_type": "execute_result"
    }
   ],
   "source": [
    "# money recall\n",
    "money_result = money_recall_at_k(recommended_list, bought_list, recommended_prices=recommended_prices, bought_prices=bought_prices)\n",
    "money_result"
   ]
  },
  {
   "cell_type": "code",
   "execution_count": 89,
   "id": "6ca85749-e55a-4613-917b-099f9462e7db",
   "metadata": {
    "tags": []
   },
   "outputs": [
    {
     "data": {
      "text/plain": [
       "0.13781184250075143"
      ]
     },
     "execution_count": 89,
     "metadata": {},
     "output_type": "execute_result"
    }
   ],
   "source": [
    "# money_recall at 3\n",
    "m_recall_at_3 = money_recall_at_k(recommended_list, bought_list, recommended_prices=recommended_prices, bought_prices=bought_prices, k=3)\n",
    "m_recall_at_3"
   ]
  },
  {
   "cell_type": "markdown",
   "id": "26cfe4f4-24a2-49db-a463-fa489cbd290d",
   "metadata": {
    "tags": []
   },
   "source": [
    "## Задание 2. Реализовать метрику MRR@k\n",
    "\n",
    "Mean Reciprocal Rank\n",
    "\n",
    "- Считаем для первых k рекоммендаций\n",
    "- Найти ранк первого релевантного предсказания $\\Large rank_j$\n",
    "- Посчитать reciprocal rank = $\\Large\\frac{1}{rank_j}$\n",
    "\n",
    "$$\\Large  MMR(i)@k=\\frac {1}{\\min\\limits_{j\\in Rel(i)} rank_j}$$"
   ]
  },
  {
   "cell_type": "code",
   "execution_count": 109,
   "id": "19fa82f0-cfb5-4041-86e2-4c1e764f2f20",
   "metadata": {
    "tags": []
   },
   "outputs": [],
   "source": [
    "def mrr_at_k(recommended_list, bought_list, k=-1):\n",
    "    indication = indicate_at_k(recommended_list, bought_list, k=k)\n",
    "    r_k = np.argmax(indication)\n",
    "    if r_k == 0 and not indication[0]:\n",
    "        result = 0\n",
    "    else:\n",
    "        result = 1 / (r_k+1)\n",
    "        \n",
    "    return result"
   ]
  },
  {
   "cell_type": "code",
   "execution_count": 110,
   "id": "ef45d162-1316-44a8-996a-dfd79b0e30d1",
   "metadata": {
    "tags": []
   },
   "outputs": [
    {
     "data": {
      "text/plain": [
       "1.0"
      ]
     },
     "execution_count": 110,
     "metadata": {},
     "output_type": "execute_result"
    }
   ],
   "source": [
    "test = mrr_at_k(recommended_list, bought_list)\n",
    "test"
   ]
  },
  {
   "cell_type": "code",
   "execution_count": 111,
   "id": "78e757dd-baf6-4333-8f12-84d668cce6ed",
   "metadata": {
    "tags": []
   },
   "outputs": [
    {
     "data": {
      "text/plain": [
       "0.1111111111111111"
      ]
     },
     "execution_count": 111,
     "metadata": {},
     "output_type": "execute_result"
    }
   ],
   "source": [
    "test_bought_list = [11, 43, 20, 18]\n",
    "test = mrr_at_k(recommended_list, test_bought_list)\n",
    "test # / first k = 8 -> mrr = 1 / 9 "
   ]
  },
  {
   "cell_type": "code",
   "execution_count": 113,
   "id": "236855be-4c27-421a-a00b-d65b677782f7",
   "metadata": {
    "tags": []
   },
   "outputs": [
    {
     "data": {
      "text/plain": [
       "0"
      ]
     },
     "execution_count": 113,
     "metadata": {},
     "output_type": "execute_result"
    }
   ],
   "source": [
    "test = mrr_at_k(recommended_list, test_bought_list, k = 5)\n",
    "test # no bought items in top 5 => 0"
   ]
  },
  {
   "cell_type": "markdown",
   "id": "b8257fa4-4a4b-419a-8cd7-3478c7428f01",
   "metadata": {},
   "source": [
    "For MRR@k need to mean values by i, in example i = 1 => mrr == rr"
   ]
  },
  {
   "cell_type": "markdown",
   "id": "374a33c3-0d3e-492b-b06d-5b1a26dffb5d",
   "metadata": {},
   "source": [
    "## Задание 3*. Реализовать метрику nDCG@k\n",
    "Normalized discounted cumulative gain. Эту метрику реализовать будет немного сложнее.\n",
    "\n",
    "$$\\Large DCG@K(i) = \\sum_{j=1}^{K}\\frac{\\mathbb{1}_{r_{ij}}}{\\log_2 (j+1)}$$\n",
    "\n",
    "\n",
    "$\\Large \\mathbb{1}_{r_{ij}}$ -- индикаторная функция показывает что пользователь $i$ провзаимодействовал с продуктом $j$\n",
    "\n",
    "Для подсчета $nDCG$ нам необходимо найти максимально возможный $DCG$ для пользователя $i$  и рекомендаций длины $K$.\n",
    "Максимальный $DCG$ достигается когда мы порекомендовали максимально возможное количество релевантных продуктов и все они в начале списка рекомендаций.\n",
    "\n",
    "$$\\Large IDCG@K(i) = max(DCG@K(i)) = \\sum_{j=1}^{K}\\frac{\\mathbb{1}_{j\\le|Rel_i|}}{\\log_2 (j+1)}$$\n",
    "\n",
    "$$\\Large nDCG@K(i) = \\frac {DCG@K(i)}{IDCG@K(i)}$$\n",
    "\n",
    "$\\Large |Rel_i|$ -- количество релевантных продуктов для пользователя $i$\n",
    "\n"
   ]
  },
  {
   "cell_type": "code",
   "execution_count": 128,
   "id": "f5162414-ddc5-4b6a-93bb-7796213fc553",
   "metadata": {
    "tags": []
   },
   "outputs": [],
   "source": [
    "def discount(j):\n",
    "    return 1/np.log2(j+1)\n",
    "vec_disc = np.vectorize(discount)"
   ]
  },
  {
   "cell_type": "code",
   "execution_count": 144,
   "id": "6de315a4-f758-4a95-b8a7-07e3e6717222",
   "metadata": {
    "tags": []
   },
   "outputs": [],
   "source": [
    "def nDCG_at_k(recommended_list, bought_list, k = -1):\n",
    "    indication = indicate_at_k(recommended_list, bought_list, k=k)\n",
    "    bought_id = range(1, len(bought_list) + 1)\n",
    "    indication_id = range(1, indication.shape[0]+1)\n",
    "    \n",
    "    dcg_at_k = indication * vec_disc(indication_id)\n",
    "    i_dcg_at_k = vec_disc(bought_id)\n",
    "    if k != -1:\n",
    "        i_dcg_at_k = i_dcg_at_k[:k]\n",
    "    \n",
    "    nDCG_at_k = dcg_at_k.sum() / i_dcg_at_k.sum()\n",
    "    \n",
    "    return nDCG_at_k"
   ]
  },
  {
   "cell_type": "code",
   "execution_count": 145,
   "id": "153cab1b-4382-4c0d-ab59-a569ad510db0",
   "metadata": {
    "tags": []
   },
   "outputs": [
    {
     "data": {
      "text/plain": [
       "0.5585075862632192"
      ]
     },
     "execution_count": 145,
     "metadata": {},
     "output_type": "execute_result"
    }
   ],
   "source": [
    "test = nDCG_at_k(recommended_list, bought_list, k=5)\n",
    "test"
   ]
  },
  {
   "cell_type": "code",
   "execution_count": 146,
   "id": "e0f86afe-c32d-4b28-9e0c-b09298234fc7",
   "metadata": {
    "tags": []
   },
   "outputs": [
    {
     "data": {
      "text/plain": [
       "0.46927872602275644"
      ]
     },
     "execution_count": 146,
     "metadata": {},
     "output_type": "execute_result"
    }
   ],
   "source": [
    "test = nDCG_at_k(recommended_list, bought_list, k = 3)\n",
    "test"
   ]
  },
  {
   "cell_type": "code",
   "execution_count": null,
   "id": "81228fab-6b14-4730-b8b1-ffa7cd919cc3",
   "metadata": {},
   "outputs": [],
   "source": []
  }
 ],
 "metadata": {
  "kernelspec": {
   "display_name": "Python 3 (ipykernel)",
   "language": "python",
   "name": "python3"
  },
  "language_info": {
   "codemirror_mode": {
    "name": "ipython",
    "version": 3
   },
   "file_extension": ".py",
   "mimetype": "text/x-python",
   "name": "python",
   "nbconvert_exporter": "python",
   "pygments_lexer": "ipython3",
   "version": "3.7.4"
  }
 },
 "nbformat": 4,
 "nbformat_minor": 5
}

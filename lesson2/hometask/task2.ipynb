{
 "cells": [
  {
   "cell_type": "markdown",
   "id": "960d72f9-3e9a-4036-b958-7134b1489a4d",
   "metadata": {},
   "source": [
    "# <center> Text clusterization with LDA"
   ]
  },
  {
   "cell_type": "markdown",
   "id": "a56d0417-f2fa-4b9a-953b-763c461a9b21",
   "metadata": {},
   "source": [
    "## Import data"
   ]
  },
  {
   "cell_type": "code",
   "execution_count": 291,
   "id": "4a2dc546-5802-4b35-9898-fc201a7fbbe9",
   "metadata": {
    "tags": []
   },
   "outputs": [],
   "source": [
    "import pandas as pd\n",
    "import numpy as np\n",
    "import re\n",
    "from nltk.corpus import stopwords\n",
    "import nltk\n",
    "import razdel\n",
    "import pymorphy2\n",
    "from gensim.corpora.dictionary import Dictionary\n",
    "from gensim.models import LdaModel\n",
    "from razdel import tokenize\n",
    "from sklearn.linear_model import LogisticRegression\n",
    "from sklearn.model_selection import train_test_split\n",
    "import matplotlib.pyplot as plt\n",
    "from sklearn.metrics import f1_score, roc_auc_score, precision_score, classification_report, precision_recall_curve, confusion_matrix\n",
    "import itertools\n",
    "from sklearn.feature_extraction.text import TfidfVectorizer\n",
    "\n",
    "%matplotlib inline"
   ]
  },
  {
   "cell_type": "markdown",
   "id": "ed5c19d3-0702-47a2-8a99-851ab547561b",
   "metadata": {
    "tags": []
   },
   "source": [
    "## Load articles dataset"
   ]
  },
  {
   "cell_type": "code",
   "execution_count": 2,
   "id": "e3164205-bbfd-4f53-997a-bce0ab7d67fb",
   "metadata": {
    "tags": []
   },
   "outputs": [],
   "source": [
    "text_dataset_name = \"materials.csv\"\n",
    "\n",
    "text_df = pd.read_csv(text_dataset_name)"
   ]
  },
  {
   "cell_type": "code",
   "execution_count": 3,
   "id": "6cc4a2f0-36b0-4330-bfb1-437e289b9356",
   "metadata": {
    "tags": []
   },
   "outputs": [
    {
     "name": "stdout",
     "output_type": "stream",
     "text": [
      "<class 'pandas.core.frame.DataFrame'>\n",
      "RangeIndex: 27000 entries, 0 to 26999\n",
      "Data columns (total 2 columns):\n",
      " #   Column  Non-Null Count  Dtype \n",
      "---  ------  --------------  ----- \n",
      " 0   doc_id  27000 non-null  int64 \n",
      " 1   title   27000 non-null  object\n",
      "dtypes: int64(1), object(1)\n",
      "memory usage: 422.0+ KB\n"
     ]
    }
   ],
   "source": [
    "# show common info\n",
    "\n",
    "text_df.info()"
   ]
  },
  {
   "cell_type": "code",
   "execution_count": 4,
   "id": "5b56c1d4-c78d-43d6-9165-2d6746a2cb53",
   "metadata": {
    "tags": []
   },
   "outputs": [
    {
     "data": {
      "text/html": [
       "<div>\n",
       "<style scoped>\n",
       "    .dataframe tbody tr th:only-of-type {\n",
       "        vertical-align: middle;\n",
       "    }\n",
       "\n",
       "    .dataframe tbody tr th {\n",
       "        vertical-align: top;\n",
       "    }\n",
       "\n",
       "    .dataframe thead th {\n",
       "        text-align: right;\n",
       "    }\n",
       "</style>\n",
       "<table border=\"1\" class=\"dataframe\">\n",
       "  <thead>\n",
       "    <tr style=\"text-align: right;\">\n",
       "      <th></th>\n",
       "      <th>doc_id</th>\n",
       "      <th>title</th>\n",
       "    </tr>\n",
       "  </thead>\n",
       "  <tbody>\n",
       "    <tr>\n",
       "      <th>0</th>\n",
       "      <td>6</td>\n",
       "      <td>Заместитель председателяnправительства РФnСерг...</td>\n",
       "    </tr>\n",
       "    <tr>\n",
       "      <th>1</th>\n",
       "      <td>4896</td>\n",
       "      <td>Матч 1/16 финала Кубка России по футболу был п...</td>\n",
       "    </tr>\n",
       "    <tr>\n",
       "      <th>2</th>\n",
       "      <td>4897</td>\n",
       "      <td>Форвард «Авангарда» Томаш Заборский прокоммент...</td>\n",
       "    </tr>\n",
       "  </tbody>\n",
       "</table>\n",
       "</div>"
      ],
      "text/plain": [
       "   doc_id                                              title\n",
       "0       6  Заместитель председателяnправительства РФnСерг...\n",
       "1    4896  Матч 1/16 финала Кубка России по футболу был п...\n",
       "2    4897  Форвард «Авангарда» Томаш Заборский прокоммент..."
      ]
     },
     "execution_count": 4,
     "metadata": {},
     "output_type": "execute_result"
    }
   ],
   "source": [
    "text_df.head(3)"
   ]
  },
  {
   "cell_type": "markdown",
   "id": "560eacc1-9101-47a7-be6f-bf23162434aa",
   "metadata": {
    "tags": []
   },
   "source": [
    "## Prepare dataset"
   ]
  },
  {
   "cell_type": "code",
   "execution_count": 5,
   "id": "e22d0d7c-d244-4cb9-b783-67b82527474b",
   "metadata": {
    "tags": []
   },
   "outputs": [],
   "source": [
    "# download stopwords\n",
    "# nltk.download()\n",
    "stopwords_ru = stopwords.words(\"russian\")"
   ]
  },
  {
   "cell_type": "code",
   "execution_count": 6,
   "id": "d7e6f0f8-840c-49cc-ab69-f2c5826cd0c3",
   "metadata": {
    "tags": []
   },
   "outputs": [
    {
     "data": {
      "text/plain": [
       "151"
      ]
     },
     "execution_count": 6,
     "metadata": {},
     "output_type": "execute_result"
    }
   ],
   "source": [
    "len(stopwords_ru)"
   ]
  },
  {
   "cell_type": "code",
   "execution_count": 7,
   "id": "938c2f42-4438-4d9d-9882-a6fc5f763c52",
   "metadata": {
    "tags": []
   },
   "outputs": [
    {
     "data": {
      "text/plain": [
       "776"
      ]
     },
     "execution_count": 7,
     "metadata": {},
     "output_type": "execute_result"
    }
   ],
   "source": [
    "# add new stopwords\n",
    "with open('stopwords.txt') as f:\n",
    "    additional_stopwords = [w.strip() for w in f.readlines() if w]\n",
    "stopwords_ru += additional_stopwords\n",
    "len(stopwords_ru)"
   ]
  },
  {
   "cell_type": "code",
   "execution_count": 8,
   "id": "6ceeeacb-9ae8-4db6-a920-68e823637cda",
   "metadata": {},
   "outputs": [],
   "source": [
    "# get morph\n",
    "\n",
    "morph = pymorphy2.MorphAnalyzer()"
   ]
  },
  {
   "cell_type": "code",
   "execution_count": 13,
   "id": "9a8409ec-fd9a-4b92-b34b-c99c7813cbc0",
   "metadata": {
    "tags": []
   },
   "outputs": [],
   "source": [
    "def clean_text(text):\n",
    "    if not isinstance(text, str):\n",
    "        text = str(text)\n",
    "    \n",
    "    text = text.lower()\n",
    "    text = text.strip('\\n').strip('\\r').strip('\\t')\n",
    "    text = re.sub(\"-\\s\\r\\n\\|-\\s\\r\\n|\\r\\n\", '', str(text))\n",
    "\n",
    "    text = re.sub(\"[0-9]|[-—.,:;_%©«»?*!@#№$^•·&()]|[+=]|[[]|[]]|[/]|\", '', text)\n",
    "    text = re.sub(r\"\\r\\n\\t|\\n|\\\\s|\\r\\t|\\\\n\", ' ', text)\n",
    "    text = re.sub(r'[\\xad]|[\\s+]', ' ', text.strip())\n",
    "    text = re.sub(\"n\", \" \", text)\n",
    "    \n",
    "    return text\n",
    "\n",
    "cache = {}\n",
    "\n",
    "def lemmatization(text):\n",
    "    '''\n",
    "    лемматизация\n",
    "        [0] если зашел тип не `str` делаем его `str`\n",
    "        [1] токенизация предложения через razdel\n",
    "        [2] проверка есть ли в начале слова '-'\n",
    "        [3] проверка токена с одного символа\n",
    "        [4] проверка есть ли данное слово в кэше\n",
    "        [5] лемматизация слова\n",
    "        [6] проверка на стоп-слова\n",
    "\n",
    "    на выходе лист отлемматизированых токенов\n",
    "    '''\n",
    "\n",
    "    # [0]\n",
    "    if not isinstance(text, str):\n",
    "        text = str(text)\n",
    "    \n",
    "    # [1]\n",
    "    tokens = list(tokenize(text))\n",
    "    words = [_.text for _ in tokens]\n",
    "\n",
    "    words_lem = []\n",
    "    for w in words:\n",
    "        if w[0] == '-': # [2]\n",
    "            w = w[1:]\n",
    "        if len(w)>1: # [3]\n",
    "            if w in cache: # [4]\n",
    "                words_lem.append(cache[w])\n",
    "            else: # [5]\n",
    "                temp_cach = cache[w] = morph.parse(w)[0].normal_form\n",
    "                words_lem.append(temp_cach)\n",
    "    \n",
    "    words_lem_without_stopwords=[i for i in words_lem if not i in stopwords_ru] # [6]\n",
    "    \n",
    "    return words_lem_without_stopwords"
   ]
  },
  {
   "cell_type": "code",
   "execution_count": 14,
   "id": "f0fee901-a97a-4ee7-b223-91f3e22b51e9",
   "metadata": {
    "tags": []
   },
   "outputs": [],
   "source": [
    "titles = text_df[\"title\"]\n",
    "titles = titles.apply(lambda x: clean_text(x)) # clean texts\n",
    "voc = titles.apply(lambda x: lemmatization(x))# get lem words"
   ]
  },
  {
   "cell_type": "code",
   "execution_count": 15,
   "id": "b317543e-e98a-49fe-8f81-9e9fae8e0ee8",
   "metadata": {
    "tags": []
   },
   "outputs": [],
   "source": [
    "voc = voc.to_numpy()"
   ]
  },
  {
   "cell_type": "code",
   "execution_count": 54,
   "id": "090e3c4e-be9f-46f3-88b2-36b9880fe7bf",
   "metadata": {
    "tags": []
   },
   "outputs": [],
   "source": [
    "common_voc = Dictionary(voc)\n",
    "common_corpus = [common_voc.doc2bow(words) for words in voc]"
   ]
  },
  {
   "cell_type": "code",
   "execution_count": 57,
   "id": "37cf363f-4dc7-4256-ad04-00f0979de3b8",
   "metadata": {
    "tags": []
   },
   "outputs": [],
   "source": [
    "# train lda model\n",
    "topics = 25\n",
    "lda = LdaModel(common_corpus, num_topics=topics, id2word=common_voc)"
   ]
  },
  {
   "cell_type": "code",
   "execution_count": 58,
   "id": "11900c5c-0a72-47e6-8ef9-d8caab818f28",
   "metadata": {
    "tags": []
   },
   "outputs": [
    {
     "name": "stdout",
     "output_type": "stream",
     "text": [
      "topic_0: год тыс рынок составить это который млн\n",
      "topic_1: японский китайский япония кость доставить больница зуб\n",
      "topic_2: фонд снижение испытание характерный полоса предупредить внедрение\n",
      "topic_3: кровь воздух фотография граница компания производить оплата\n",
      "topic_4: погибнуть журнал восток писать пилот лётчик память\n",
      "topic_5: год млрд рубль это млн рост который\n",
      "topic_6: ракета экипаж фильм год флот приговор норвежский\n",
      "topic_7: научный школа вуз ступень который физика великий\n",
      "topic_8: фестиваль египет пройти мероприятие тур гость организатор\n",
      "topic_9: который человек год это время свой весь\n",
      "topic_10: это год россия который страна президент свой\n",
      "topic_11: который год суд статья дело исследование это\n",
      "topic_12: женщина мужчина бомба захватить золото пляж задать\n",
      "topic_13: украина украинский киев квартира инвестиция убийство рада\n",
      "topic_14: это россия российский который мочь вопрос новый\n",
      "topic_15: это исследование ребёнок который гражданин риск система\n",
      "topic_16: военный армия объект наука пациент исследование россия\n",
      "topic_17: газ век технология форум препарат европа медведев\n",
      "topic_18: разместить пресссекретарить песок индия польский польша девочка\n",
      "topic_19: планета двигатель пенсия космос это расчёт указать\n",
      "topic_20: банк расследование лаборатория убийство дело сотрудник вирус\n",
      "topic_21: налог подсчитать кг sa студия платёжный de\n",
      "topic_22: это год который мочь время всё работа\n",
      "topic_23: сша проверка американский сон азия заявлять польша\n",
      "topic_24: северный южный сектор высота корея определение миллиард\n"
     ]
    }
   ],
   "source": [
    "x=lda.show_topics(num_topics=25, num_words=7,formatted=False)\n",
    "topics_words = [(tp[0], [wd[0] for wd in tp[1]]) for tp in x]\n",
    "\n",
    "#Below Code Prints Only Words \n",
    "for topic,words in topics_words:\n",
    "    print(\"topic_{}: \".format(topic)+\" \".join(words))"
   ]
  },
  {
   "cell_type": "code",
   "execution_count": 83,
   "id": "f18cdf9d-b33e-46f0-913e-7cdc094ed3c3",
   "metadata": {
    "tags": []
   },
   "outputs": [],
   "source": [
    "def text_topics(text, show_info=False):\n",
    "    lem_words = lemmatization(text)\n",
    "    text_corpus = common_voc.doc2bow(lem_words)\n",
    "    lda_info = lda[text_corpus]\n",
    "    if show_info:\n",
    "        print(lda_info, text, sep=\"\\n\")\n",
    "    return lda_info"
   ]
  },
  {
   "cell_type": "code",
   "execution_count": 116,
   "id": "534a49aa-804b-41ba-9e5a-eed0d6fb45ee",
   "metadata": {
    "tags": []
   },
   "outputs": [
    {
     "name": "stdout",
     "output_type": "stream",
     "text": [
      "[(0, 0.19151142), (6, 0.017292067), (7, 0.17847282), (8, 0.23310882), (12, 0.031062555), (18, 0.039589655), (20, 0.03199277), (22, 0.26147017)]\n",
      "Форвард «Авангарда» Томаш Заборский прокомментировал игру своей команды в матче чемпионата КХЛ против «Атланта»n(4:3)n.nn«Мы провели плохой матч в Нижнем Новгороде против «Торпедо» и настраивались, что с первых же минут включимся в работу, — сказал Заборский. — У нас получилось забросить быстрый гол и задать хороший темп поединку. Мы можем играть еще лучше, но, с другой стороны, пять очков на выезде из девяти — это лучше, чем ничего».\n"
     ]
    },
    {
     "data": {
      "text/plain": [
       "[(0, 0.19151142),\n",
       " (6, 0.017292067),\n",
       " (7, 0.17847282),\n",
       " (8, 0.23310882),\n",
       " (12, 0.031062555),\n",
       " (18, 0.039589655),\n",
       " (20, 0.03199277),\n",
       " (22, 0.26147017)]"
      ]
     },
     "execution_count": 116,
     "metadata": {},
     "output_type": "execute_result"
    }
   ],
   "source": [
    "text = text_df.iloc[2][1]\n",
    "text_topics(text=text, show_info=True)"
   ]
  },
  {
   "cell_type": "markdown",
   "id": "6f8f60a1-81fb-403e-92ab-48ad8048867b",
   "metadata": {},
   "source": [
    "## Transform data to DataFrame"
   ]
  },
  {
   "cell_type": "code",
   "execution_count": 110,
   "id": "2e054c5a-034e-41dc-a64b-d816d14e294b",
   "metadata": {
    "tags": []
   },
   "outputs": [],
   "source": [
    "def get_lda_matrix(texts, num_topics):\n",
    "    lda_matrix = np.zeros(shape=(len(texts), num_topics))\n",
    "    for i, text in enumerate(texts):\n",
    "        lda_info = text_topics(text, show_info=False)\n",
    "        for topic, proba in lda_info:\n",
    "            lda_matrix[i,topic] = proba \n",
    "                          \n",
    "    return lda_matrix"
   ]
  },
  {
   "cell_type": "code",
   "execution_count": 111,
   "id": "3696aa00-83bf-42f3-8003-dd6381d15851",
   "metadata": {
    "tags": []
   },
   "outputs": [],
   "source": [
    "lda_matrix = get_lda_matrix(text_df[\"title\"].values, num_topics=topics)"
   ]
  },
  {
   "cell_type": "code",
   "execution_count": 113,
   "id": "cc54f6c3-b64c-462e-a85e-8a091cbca109",
   "metadata": {
    "tags": []
   },
   "outputs": [],
   "source": [
    "transform_df = pd.DataFrame(lda_matrix, columns = [f\"topic_{i}\" for i in range(topics)])\n",
    "transform_df['doc_id'] = text_df['doc_id']"
   ]
  },
  {
   "cell_type": "code",
   "execution_count": 114,
   "id": "3067f22d-3617-4c24-afd0-f0b67338d628",
   "metadata": {
    "tags": []
   },
   "outputs": [
    {
     "data": {
      "text/html": [
       "<div>\n",
       "<style scoped>\n",
       "    .dataframe tbody tr th:only-of-type {\n",
       "        vertical-align: middle;\n",
       "    }\n",
       "\n",
       "    .dataframe tbody tr th {\n",
       "        vertical-align: top;\n",
       "    }\n",
       "\n",
       "    .dataframe thead th {\n",
       "        text-align: right;\n",
       "    }\n",
       "</style>\n",
       "<table border=\"1\" class=\"dataframe\">\n",
       "  <thead>\n",
       "    <tr style=\"text-align: right;\">\n",
       "      <th></th>\n",
       "      <th>topic_0</th>\n",
       "      <th>topic_1</th>\n",
       "      <th>topic_2</th>\n",
       "      <th>topic_3</th>\n",
       "      <th>topic_4</th>\n",
       "      <th>topic_5</th>\n",
       "      <th>topic_6</th>\n",
       "      <th>topic_7</th>\n",
       "      <th>topic_8</th>\n",
       "      <th>topic_9</th>\n",
       "      <th>...</th>\n",
       "      <th>topic_16</th>\n",
       "      <th>topic_17</th>\n",
       "      <th>topic_18</th>\n",
       "      <th>topic_19</th>\n",
       "      <th>topic_20</th>\n",
       "      <th>topic_21</th>\n",
       "      <th>topic_22</th>\n",
       "      <th>topic_23</th>\n",
       "      <th>topic_24</th>\n",
       "      <th>doc_id</th>\n",
       "    </tr>\n",
       "  </thead>\n",
       "  <tbody>\n",
       "    <tr>\n",
       "      <th>0</th>\n",
       "      <td>0.000000</td>\n",
       "      <td>0.000000</td>\n",
       "      <td>0.0</td>\n",
       "      <td>0.0</td>\n",
       "      <td>0.0</td>\n",
       "      <td>0.0</td>\n",
       "      <td>0.000000</td>\n",
       "      <td>0.093944</td>\n",
       "      <td>0.050322</td>\n",
       "      <td>0.000000</td>\n",
       "      <td>...</td>\n",
       "      <td>0.0</td>\n",
       "      <td>0.000000</td>\n",
       "      <td>0.00000</td>\n",
       "      <td>0.00000</td>\n",
       "      <td>0.257699</td>\n",
       "      <td>0.0</td>\n",
       "      <td>0.000000</td>\n",
       "      <td>0.000000</td>\n",
       "      <td>0.0</td>\n",
       "      <td>6</td>\n",
       "    </tr>\n",
       "    <tr>\n",
       "      <th>1</th>\n",
       "      <td>0.000000</td>\n",
       "      <td>0.000000</td>\n",
       "      <td>0.0</td>\n",
       "      <td>0.0</td>\n",
       "      <td>0.0</td>\n",
       "      <td>0.0</td>\n",
       "      <td>0.000000</td>\n",
       "      <td>0.000000</td>\n",
       "      <td>0.289812</td>\n",
       "      <td>0.564984</td>\n",
       "      <td>...</td>\n",
       "      <td>0.0</td>\n",
       "      <td>0.000000</td>\n",
       "      <td>0.00000</td>\n",
       "      <td>0.00000</td>\n",
       "      <td>0.000000</td>\n",
       "      <td>0.0</td>\n",
       "      <td>0.000000</td>\n",
       "      <td>0.000000</td>\n",
       "      <td>0.0</td>\n",
       "      <td>4896</td>\n",
       "    </tr>\n",
       "    <tr>\n",
       "      <th>2</th>\n",
       "      <td>0.191441</td>\n",
       "      <td>0.000000</td>\n",
       "      <td>0.0</td>\n",
       "      <td>0.0</td>\n",
       "      <td>0.0</td>\n",
       "      <td>0.0</td>\n",
       "      <td>0.017142</td>\n",
       "      <td>0.178433</td>\n",
       "      <td>0.233101</td>\n",
       "      <td>0.000000</td>\n",
       "      <td>...</td>\n",
       "      <td>0.0</td>\n",
       "      <td>0.000000</td>\n",
       "      <td>0.03959</td>\n",
       "      <td>0.00000</td>\n",
       "      <td>0.031989</td>\n",
       "      <td>0.0</td>\n",
       "      <td>0.261743</td>\n",
       "      <td>0.000000</td>\n",
       "      <td>0.0</td>\n",
       "      <td>4897</td>\n",
       "    </tr>\n",
       "    <tr>\n",
       "      <th>3</th>\n",
       "      <td>0.087504</td>\n",
       "      <td>0.000000</td>\n",
       "      <td>0.0</td>\n",
       "      <td>0.0</td>\n",
       "      <td>0.0</td>\n",
       "      <td>0.0</td>\n",
       "      <td>0.000000</td>\n",
       "      <td>0.000000</td>\n",
       "      <td>0.102924</td>\n",
       "      <td>0.000000</td>\n",
       "      <td>...</td>\n",
       "      <td>0.0</td>\n",
       "      <td>0.354813</td>\n",
       "      <td>0.00000</td>\n",
       "      <td>0.09069</td>\n",
       "      <td>0.000000</td>\n",
       "      <td>0.0</td>\n",
       "      <td>0.190381</td>\n",
       "      <td>0.022616</td>\n",
       "      <td>0.0</td>\n",
       "      <td>4898</td>\n",
       "    </tr>\n",
       "    <tr>\n",
       "      <th>4</th>\n",
       "      <td>0.000000</td>\n",
       "      <td>0.414683</td>\n",
       "      <td>0.0</td>\n",
       "      <td>0.0</td>\n",
       "      <td>0.0</td>\n",
       "      <td>0.0</td>\n",
       "      <td>0.000000</td>\n",
       "      <td>0.141772</td>\n",
       "      <td>0.000000</td>\n",
       "      <td>0.000000</td>\n",
       "      <td>...</td>\n",
       "      <td>0.0</td>\n",
       "      <td>0.000000</td>\n",
       "      <td>0.00000</td>\n",
       "      <td>0.00000</td>\n",
       "      <td>0.000000</td>\n",
       "      <td>0.0</td>\n",
       "      <td>0.000000</td>\n",
       "      <td>0.000000</td>\n",
       "      <td>0.0</td>\n",
       "      <td>4899</td>\n",
       "    </tr>\n",
       "  </tbody>\n",
       "</table>\n",
       "<p>5 rows × 26 columns</p>\n",
       "</div>"
      ],
      "text/plain": [
       "    topic_0   topic_1  topic_2  topic_3  topic_4  topic_5   topic_6   topic_7  \\\n",
       "0  0.000000  0.000000      0.0      0.0      0.0      0.0  0.000000  0.093944   \n",
       "1  0.000000  0.000000      0.0      0.0      0.0      0.0  0.000000  0.000000   \n",
       "2  0.191441  0.000000      0.0      0.0      0.0      0.0  0.017142  0.178433   \n",
       "3  0.087504  0.000000      0.0      0.0      0.0      0.0  0.000000  0.000000   \n",
       "4  0.000000  0.414683      0.0      0.0      0.0      0.0  0.000000  0.141772   \n",
       "\n",
       "    topic_8   topic_9  ...  topic_16  topic_17  topic_18  topic_19  topic_20  \\\n",
       "0  0.050322  0.000000  ...       0.0  0.000000   0.00000   0.00000  0.257699   \n",
       "1  0.289812  0.564984  ...       0.0  0.000000   0.00000   0.00000  0.000000   \n",
       "2  0.233101  0.000000  ...       0.0  0.000000   0.03959   0.00000  0.031989   \n",
       "3  0.102924  0.000000  ...       0.0  0.354813   0.00000   0.09069  0.000000   \n",
       "4  0.000000  0.000000  ...       0.0  0.000000   0.00000   0.00000  0.000000   \n",
       "\n",
       "   topic_21  topic_22  topic_23  topic_24  doc_id  \n",
       "0       0.0  0.000000  0.000000       0.0       6  \n",
       "1       0.0  0.000000  0.000000       0.0    4896  \n",
       "2       0.0  0.261743  0.000000       0.0    4897  \n",
       "3       0.0  0.190381  0.022616       0.0    4898  \n",
       "4       0.0  0.000000  0.000000       0.0    4899  \n",
       "\n",
       "[5 rows x 26 columns]"
      ]
     },
     "execution_count": 114,
     "metadata": {},
     "output_type": "execute_result"
    }
   ],
   "source": [
    "transform_df.head(5)"
   ]
  },
  {
   "cell_type": "markdown",
   "id": "67540303-bb83-4aef-ab3a-a4f9b8a37c96",
   "metadata": {},
   "source": [
    "## Get users data"
   ]
  },
  {
   "cell_type": "code",
   "execution_count": 117,
   "id": "e9130db3-29c5-4306-b2fc-a8a159e80add",
   "metadata": {
    "tags": []
   },
   "outputs": [],
   "source": [
    "users_filename = \"users_articles.csv\"\n",
    "\n",
    "users_df = pd.read_csv(users_filename)"
   ]
  },
  {
   "cell_type": "code",
   "execution_count": 118,
   "id": "fca78816-6420-4eb4-8926-4d3fcd63a4f6",
   "metadata": {
    "tags": []
   },
   "outputs": [
    {
     "data": {
      "text/html": [
       "<div>\n",
       "<style scoped>\n",
       "    .dataframe tbody tr th:only-of-type {\n",
       "        vertical-align: middle;\n",
       "    }\n",
       "\n",
       "    .dataframe tbody tr th {\n",
       "        vertical-align: top;\n",
       "    }\n",
       "\n",
       "    .dataframe thead th {\n",
       "        text-align: right;\n",
       "    }\n",
       "</style>\n",
       "<table border=\"1\" class=\"dataframe\">\n",
       "  <thead>\n",
       "    <tr style=\"text-align: right;\">\n",
       "      <th></th>\n",
       "      <th>uid</th>\n",
       "      <th>articles</th>\n",
       "    </tr>\n",
       "  </thead>\n",
       "  <tbody>\n",
       "    <tr>\n",
       "      <th>0</th>\n",
       "      <td>u105138</td>\n",
       "      <td>[293672, 293328, 293001, 293622, 293126, 1852]</td>\n",
       "    </tr>\n",
       "    <tr>\n",
       "      <th>1</th>\n",
       "      <td>u108690</td>\n",
       "      <td>[3405, 1739, 2972, 1158, 1599, 322665]</td>\n",
       "    </tr>\n",
       "    <tr>\n",
       "      <th>2</th>\n",
       "      <td>u108339</td>\n",
       "      <td>[1845, 2009, 2356, 1424, 2939, 323389]</td>\n",
       "    </tr>\n",
       "    <tr>\n",
       "      <th>3</th>\n",
       "      <td>u101138</td>\n",
       "      <td>[5933, 6186, 5055, 6977, 5206, 488389]</td>\n",
       "    </tr>\n",
       "    <tr>\n",
       "      <th>4</th>\n",
       "      <td>u108248</td>\n",
       "      <td>[707, 1144, 2532, 2928, 3133, 324592]</td>\n",
       "    </tr>\n",
       "  </tbody>\n",
       "</table>\n",
       "</div>"
      ],
      "text/plain": [
       "       uid                                        articles\n",
       "0  u105138  [293672, 293328, 293001, 293622, 293126, 1852]\n",
       "1  u108690          [3405, 1739, 2972, 1158, 1599, 322665]\n",
       "2  u108339          [1845, 2009, 2356, 1424, 2939, 323389]\n",
       "3  u101138          [5933, 6186, 5055, 6977, 5206, 488389]\n",
       "4  u108248           [707, 1144, 2532, 2928, 3133, 324592]"
      ]
     },
     "execution_count": 118,
     "metadata": {},
     "output_type": "execute_result"
    }
   ],
   "source": [
    "users_df.head(5)"
   ]
  },
  {
   "cell_type": "code",
   "execution_count": 274,
   "id": "2b22e028-2b01-4a73-ba51-d0473943029f",
   "metadata": {
    "tags": []
   },
   "outputs": [],
   "source": [
    "def get_users_matrix(articles, metric=\"mean\"):\n",
    "    user_vectors = []\n",
    "    for article in articles:\n",
    "        articles_id = map(int, article[1:-1].split(\",\"))\n",
    "        transform_data = transform_df[transform_df[\"doc_id\"].isin(articles_id)].drop(columns=[\"doc_id\"]).to_numpy()\n",
    "        if metric == \"mean\":\n",
    "            user_vector = transform_data.mean(axis=0)\n",
    "        elif metric == \"median\":\n",
    "            user_vector = np.median(transform_data, axis=0)\n",
    "        else:\n",
    "            user_vector = transform_data.max(axis=0)\n",
    "        \n",
    "        user_vectors.append(user_vector)\n",
    "        \n",
    "    return np.asarray(user_vectors)"
   ]
  },
  {
   "cell_type": "code",
   "execution_count": 271,
   "id": "4dc7efdb-bda5-4190-ae4e-28d9041286d3",
   "metadata": {
    "tags": []
   },
   "outputs": [],
   "source": [
    "def get_users_transform_data(metric=\"mean\"):\n",
    "    users_articles = users_df[\"articles\"].values\n",
    "    users_matrix = get_users_matrix(users_articles, metric=metric)\n",
    "    users_transform_data = pd.DataFrame(users_matrix, columns=[f\"topic_{i}\" for i in range(topics)])\n",
    "    users_transform_data[\"uid\"] = users_df[\"uid\"]\n",
    "    \n",
    "    return users_transform_data"
   ]
  },
  {
   "cell_type": "code",
   "execution_count": 272,
   "id": "5b345025-3b57-4888-ba58-1a716a2617a1",
   "metadata": {
    "tags": []
   },
   "outputs": [],
   "source": [
    "users_transform_data = get_users_transform_data(metric=\"mean\")"
   ]
  },
  {
   "cell_type": "code",
   "execution_count": 248,
   "id": "eec31a58-04c6-4e56-a0a7-d1d7ba57dc64",
   "metadata": {
    "tags": []
   },
   "outputs": [
    {
     "data": {
      "text/html": [
       "<div>\n",
       "<style scoped>\n",
       "    .dataframe tbody tr th:only-of-type {\n",
       "        vertical-align: middle;\n",
       "    }\n",
       "\n",
       "    .dataframe tbody tr th {\n",
       "        vertical-align: top;\n",
       "    }\n",
       "\n",
       "    .dataframe thead th {\n",
       "        text-align: right;\n",
       "    }\n",
       "</style>\n",
       "<table border=\"1\" class=\"dataframe\">\n",
       "  <thead>\n",
       "    <tr style=\"text-align: right;\">\n",
       "      <th></th>\n",
       "      <th>topic_0</th>\n",
       "      <th>topic_1</th>\n",
       "      <th>topic_2</th>\n",
       "      <th>topic_3</th>\n",
       "      <th>topic_4</th>\n",
       "      <th>topic_5</th>\n",
       "      <th>topic_6</th>\n",
       "      <th>topic_7</th>\n",
       "      <th>topic_8</th>\n",
       "      <th>topic_9</th>\n",
       "      <th>...</th>\n",
       "      <th>topic_16</th>\n",
       "      <th>topic_17</th>\n",
       "      <th>topic_18</th>\n",
       "      <th>topic_19</th>\n",
       "      <th>topic_20</th>\n",
       "      <th>topic_21</th>\n",
       "      <th>topic_22</th>\n",
       "      <th>topic_23</th>\n",
       "      <th>topic_24</th>\n",
       "      <th>uid</th>\n",
       "    </tr>\n",
       "  </thead>\n",
       "  <tbody>\n",
       "    <tr>\n",
       "      <th>0</th>\n",
       "      <td>0.018743</td>\n",
       "      <td>0.000000</td>\n",
       "      <td>0.000000</td>\n",
       "      <td>0.006813</td>\n",
       "      <td>0.005054</td>\n",
       "      <td>0.114209</td>\n",
       "      <td>0.012401</td>\n",
       "      <td>0.066106</td>\n",
       "      <td>0.000000</td>\n",
       "      <td>0.215874</td>\n",
       "      <td>...</td>\n",
       "      <td>0.011077</td>\n",
       "      <td>0.000000</td>\n",
       "      <td>0.000000</td>\n",
       "      <td>0.000000</td>\n",
       "      <td>0.020070</td>\n",
       "      <td>0.000000</td>\n",
       "      <td>0.010055</td>\n",
       "      <td>0.008894</td>\n",
       "      <td>0.000000</td>\n",
       "      <td>u105138</td>\n",
       "    </tr>\n",
       "    <tr>\n",
       "      <th>1</th>\n",
       "      <td>0.029246</td>\n",
       "      <td>0.000000</td>\n",
       "      <td>0.000000</td>\n",
       "      <td>0.000000</td>\n",
       "      <td>0.002343</td>\n",
       "      <td>0.061114</td>\n",
       "      <td>0.003520</td>\n",
       "      <td>0.000000</td>\n",
       "      <td>0.000000</td>\n",
       "      <td>0.189149</td>\n",
       "      <td>...</td>\n",
       "      <td>0.009204</td>\n",
       "      <td>0.013630</td>\n",
       "      <td>0.008049</td>\n",
       "      <td>0.016280</td>\n",
       "      <td>0.016384</td>\n",
       "      <td>0.000000</td>\n",
       "      <td>0.049484</td>\n",
       "      <td>0.004235</td>\n",
       "      <td>0.000000</td>\n",
       "      <td>u108690</td>\n",
       "    </tr>\n",
       "    <tr>\n",
       "      <th>2</th>\n",
       "      <td>0.009968</td>\n",
       "      <td>0.034698</td>\n",
       "      <td>0.002773</td>\n",
       "      <td>0.003951</td>\n",
       "      <td>0.010047</td>\n",
       "      <td>0.051074</td>\n",
       "      <td>0.000000</td>\n",
       "      <td>0.029917</td>\n",
       "      <td>0.002513</td>\n",
       "      <td>0.327895</td>\n",
       "      <td>...</td>\n",
       "      <td>0.018467</td>\n",
       "      <td>0.016265</td>\n",
       "      <td>0.000000</td>\n",
       "      <td>0.004833</td>\n",
       "      <td>0.040271</td>\n",
       "      <td>0.000000</td>\n",
       "      <td>0.008365</td>\n",
       "      <td>0.000000</td>\n",
       "      <td>0.000000</td>\n",
       "      <td>u108339</td>\n",
       "    </tr>\n",
       "    <tr>\n",
       "      <th>3</th>\n",
       "      <td>0.025175</td>\n",
       "      <td>0.000000</td>\n",
       "      <td>0.009386</td>\n",
       "      <td>0.000000</td>\n",
       "      <td>0.093386</td>\n",
       "      <td>0.003910</td>\n",
       "      <td>0.002140</td>\n",
       "      <td>0.051771</td>\n",
       "      <td>0.129506</td>\n",
       "      <td>0.117239</td>\n",
       "      <td>...</td>\n",
       "      <td>0.000000</td>\n",
       "      <td>0.001843</td>\n",
       "      <td>0.011662</td>\n",
       "      <td>0.022927</td>\n",
       "      <td>0.003399</td>\n",
       "      <td>0.028164</td>\n",
       "      <td>0.259013</td>\n",
       "      <td>0.000000</td>\n",
       "      <td>0.011353</td>\n",
       "      <td>u101138</td>\n",
       "    </tr>\n",
       "    <tr>\n",
       "      <th>4</th>\n",
       "      <td>0.052971</td>\n",
       "      <td>0.005204</td>\n",
       "      <td>0.000000</td>\n",
       "      <td>0.010944</td>\n",
       "      <td>0.002599</td>\n",
       "      <td>0.022135</td>\n",
       "      <td>0.000000</td>\n",
       "      <td>0.030747</td>\n",
       "      <td>0.003609</td>\n",
       "      <td>0.256263</td>\n",
       "      <td>...</td>\n",
       "      <td>0.005604</td>\n",
       "      <td>0.000000</td>\n",
       "      <td>0.002381</td>\n",
       "      <td>0.040187</td>\n",
       "      <td>0.022435</td>\n",
       "      <td>0.000000</td>\n",
       "      <td>0.056773</td>\n",
       "      <td>0.002450</td>\n",
       "      <td>0.008185</td>\n",
       "      <td>u108248</td>\n",
       "    </tr>\n",
       "  </tbody>\n",
       "</table>\n",
       "<p>5 rows × 26 columns</p>\n",
       "</div>"
      ],
      "text/plain": [
       "    topic_0   topic_1   topic_2   topic_3   topic_4   topic_5   topic_6  \\\n",
       "0  0.018743  0.000000  0.000000  0.006813  0.005054  0.114209  0.012401   \n",
       "1  0.029246  0.000000  0.000000  0.000000  0.002343  0.061114  0.003520   \n",
       "2  0.009968  0.034698  0.002773  0.003951  0.010047  0.051074  0.000000   \n",
       "3  0.025175  0.000000  0.009386  0.000000  0.093386  0.003910  0.002140   \n",
       "4  0.052971  0.005204  0.000000  0.010944  0.002599  0.022135  0.000000   \n",
       "\n",
       "    topic_7   topic_8   topic_9  ...  topic_16  topic_17  topic_18  topic_19  \\\n",
       "0  0.066106  0.000000  0.215874  ...  0.011077  0.000000  0.000000  0.000000   \n",
       "1  0.000000  0.000000  0.189149  ...  0.009204  0.013630  0.008049  0.016280   \n",
       "2  0.029917  0.002513  0.327895  ...  0.018467  0.016265  0.000000  0.004833   \n",
       "3  0.051771  0.129506  0.117239  ...  0.000000  0.001843  0.011662  0.022927   \n",
       "4  0.030747  0.003609  0.256263  ...  0.005604  0.000000  0.002381  0.040187   \n",
       "\n",
       "   topic_20  topic_21  topic_22  topic_23  topic_24      uid  \n",
       "0  0.020070  0.000000  0.010055  0.008894  0.000000  u105138  \n",
       "1  0.016384  0.000000  0.049484  0.004235  0.000000  u108690  \n",
       "2  0.040271  0.000000  0.008365  0.000000  0.000000  u108339  \n",
       "3  0.003399  0.028164  0.259013  0.000000  0.011353  u101138  \n",
       "4  0.022435  0.000000  0.056773  0.002450  0.008185  u108248  \n",
       "\n",
       "[5 rows x 26 columns]"
      ]
     },
     "execution_count": 248,
     "metadata": {},
     "output_type": "execute_result"
    }
   ],
   "source": [
    "users_transform_data.head(5)"
   ]
  },
  {
   "cell_type": "markdown",
   "id": "f9892dff-f500-4389-9681-61d0a0779c88",
   "metadata": {},
   "source": [
    "## Train target model"
   ]
  },
  {
   "cell_type": "markdown",
   "id": "96f70da8-1ed4-4b8b-84d1-dd3378f4442e",
   "metadata": {},
   "source": [
    "### Prepare train/test data"
   ]
  },
  {
   "cell_type": "code",
   "execution_count": 260,
   "id": "18a8a141-d047-4c75-a86a-5bbb93f9acd1",
   "metadata": {
    "tags": []
   },
   "outputs": [],
   "source": [
    "def get_train_test_data(users_data, test_split=0.33, random_state=42):\n",
    "    target = pd.read_csv(\"users_churn.csv\")\n",
    "    \n",
    "    X = pd.merge(users_data, target, 'left')\n",
    "    \n",
    "    x_colummns = [f\"topic_{i}\" for i in range(topics)]\n",
    "    target_col = [\"churn\"]\n",
    "\n",
    "    X_target = X[x_colummns]\n",
    "    y = X[target_col]\n",
    "    \n",
    "    train_X, test_X, train_Y, test_Y = train_test_split(X_target, y, test_size=test_split, random_state=random_state)\n",
    "    \n",
    "    return train_X, test_X, train_Y, test_Y"
   ]
  },
  {
   "cell_type": "code",
   "execution_count": 261,
   "id": "5650f941-f95f-4f19-b633-3513e00a57bd",
   "metadata": {
    "tags": []
   },
   "outputs": [],
   "source": [
    "train_X, test_X, train_Y, test_Y = get_train_test_data(users_transform_data)"
   ]
  },
  {
   "cell_type": "markdown",
   "id": "7b567410-d5b1-408c-8032-426c408742cb",
   "metadata": {},
   "source": [
    "### Train model"
   ]
  },
  {
   "cell_type": "code",
   "execution_count": 262,
   "id": "dd397f3a-d7f3-4b0f-ab44-eadf71137cec",
   "metadata": {
    "tags": []
   },
   "outputs": [
    {
     "name": "stderr",
     "output_type": "stream",
     "text": [
      "d:\\pycharmprojects\\bisnessml\\venv\\lib\\site-packages\\sklearn\\utils\\validation.py:993: DataConversionWarning: A column-vector y was passed when a 1d array was expected. Please change the shape of y to (n_samples, ), for example using ravel().\n",
      "  y = column_or_1d(y, warn=True)\n"
     ]
    },
    {
     "data": {
      "text/plain": [
       "LogisticRegression()"
      ]
     },
     "execution_count": 262,
     "metadata": {},
     "output_type": "execute_result"
    }
   ],
   "source": [
    "model = LogisticRegression()\n",
    "model.fit(train_X, train_Y)"
   ]
  },
  {
   "cell_type": "code",
   "execution_count": 263,
   "id": "76b0f76f-e686-4fe2-a834-a99d0bbe4e68",
   "metadata": {
    "tags": []
   },
   "outputs": [
    {
     "data": {
      "text/plain": [
       "array([0.00118387, 0.09086066, 0.01576283, 0.07268368, 0.1885132 ,\n",
       "       0.03662875, 0.00999971, 0.11186067, 0.38153896, 0.04506953])"
      ]
     },
     "execution_count": 263,
     "metadata": {},
     "output_type": "execute_result"
    }
   ],
   "source": [
    "preds = model.predict_proba(test_X)[:, 1]\n",
    "preds[:10]"
   ]
  },
  {
   "cell_type": "markdown",
   "id": "11628215-f0cc-4f12-8806-24a34e6b7941",
   "metadata": {},
   "source": [
    "### Рассчитаем Precision, Recall, F_score"
   ]
  },
  {
   "cell_type": "code",
   "execution_count": 264,
   "id": "548ce2ad-e08b-4acd-bf2f-f0bfcba5074e",
   "metadata": {
    "tags": []
   },
   "outputs": [],
   "source": [
    "class PRF_score:\n",
    "    \n",
    "    def __init__(self, model, test_X, test_Y):\n",
    "        self.preds = model.predict_proba(test_X)[:,1]\n",
    "        self.test_X, self.test_Y = test_X, test_Y\n",
    "        self.fscore = None\n",
    "        self.precision = None\n",
    "        self.recall = None\n",
    "        self.thresholds = None\n",
    "        self.ix = 0\n",
    "    \n",
    "    def get_prt(self):\n",
    "        self.precision, self.recall, self.thresholds = precision_recall_curve(test_Y, preds)\n",
    "        self.fscore = (2 * self.precision * self.recall) / (self.precision + self.recall)\n",
    "        # locate the index of the largest f score\n",
    "        self.ix = np.argmax(self.fscore)\n",
    "        print('Best Threshold=%f, F-Score=%.3f, Precision=%.3f, Recall=%.3f' % (self.thresholds[self.ix], \n",
    "                                                                                self.fscore[self.ix],\n",
    "                                                                                self.precision[self.ix],\n",
    "                                                                                self.recall[self.ix]))\n",
    "    @staticmethod\n",
    "    def plot_confusion_matrix(cm, classes,\n",
    "                              normalize=False,\n",
    "                              title='Confusion matrix',\n",
    "                              cmap=plt.cm.Blues):\n",
    "        \"\"\"\n",
    "        This function prints and plots the confusion matrix.\n",
    "        Normalization can be applied by setting `normalize=True`.\n",
    "        \"\"\"\n",
    "        plt.imshow(cm, interpolation='nearest', cmap=cmap)\n",
    "        plt.title(title)\n",
    "        plt.colorbar()\n",
    "        tick_marks = np.arange(len(classes))\n",
    "        plt.xticks(tick_marks, classes, rotation=45)\n",
    "        plt.yticks(tick_marks, classes)\n",
    "\n",
    "        if normalize:\n",
    "            cm = cm.astype('float') / cm.sum(axis=1)[:, np.newaxis]\n",
    "            print(\"Normalized confusion matrix\")\n",
    "        else:\n",
    "            print('Confusion matrix, without normalization')\n",
    "\n",
    "        print(cm)\n",
    "\n",
    "        thresh = cm.max() / 2.\n",
    "        for i, j in itertools.product(range(cm.shape[0]), range(cm.shape[1])):\n",
    "            plt.text(j, i, cm[i, j],\n",
    "                     horizontalalignment=\"center\",\n",
    "                     color=\"white\" if cm[i, j] > thresh else \"black\")\n",
    "\n",
    "        plt.tight_layout()\n",
    "        plt.ylabel('True label')\n",
    "        plt.xlabel('Predicted label')\n",
    "        \n",
    "    def start(self):\n",
    "        self.get_prt()\n",
    "        \n",
    "        font = {'size' : 15}\n",
    "\n",
    "        plt.rc('font', **font)\n",
    "\n",
    "        cnf_matrix = confusion_matrix(self.test_Y, self.preds>self.thresholds[self.ix])\n",
    "        plt.figure(figsize=(10, 8))\n",
    "        self.plot_confusion_matrix(cnf_matrix, classes=['Non-Churn', 'churn'],\n",
    "                                  title='Confusion matrix')\n",
    "        plt.savefig(\"conf_matrix.png\")\n",
    "        plt.show()\n",
    "        \n",
    "        print(f\"roc_auc_score = {roc_auc_score(self.test_Y, self.preds)}\")\n",
    "        \n",
    "        \n",
    "        "
   ]
  },
  {
   "cell_type": "code",
   "execution_count": 265,
   "id": "1dd6bafe-b5b2-4f0b-ac4d-2699aa212436",
   "metadata": {
    "tags": []
   },
   "outputs": [
    {
     "name": "stdout",
     "output_type": "stream",
     "text": [
      "Best Threshold=0.273322, F-Score=0.656, Precision=0.618, Recall=0.699\n",
      "Confusion matrix, without normalization\n",
      "[[2159  145]\n",
      " [ 102  234]]\n"
     ]
    },
    {
     "data": {
      "image/png": "[encoded data removed]",
      "text/plain": [
       "<Figure size 1000x800 with 2 Axes>"
      ]
     },
     "metadata": {},
     "output_type": "display_data"
    },
    {
     "name": "stdout",
     "output_type": "stream",
     "text": [
      "roc_auc_score = 0.9374496217757935\n"
     ]
    }
   ],
   "source": [
    "prf = PRF_score(model=model, test_X=test_X, test_Y=test_Y)\n",
    "prf.start()"
   ]
  },
  {
   "cell_type": "markdown",
   "id": "2a0d5fb0-fe93-4d73-9ee0-352fee4e1276",
   "metadata": {},
   "source": [
    "# Other tasks"
   ]
  },
  {
   "cell_type": "markdown",
   "id": "819bd754-4ca5-4d49-9549-57e432de5935",
   "metadata": {
    "tags": []
   },
   "source": [
    "## Task 2"
   ]
  },
  {
   "cell_type": "markdown",
   "id": "790f681c-b861-436d-89dc-f1612db6b5b7",
   "metadata": {
    "tags": []
   },
   "source": [
    "### change mean to median"
   ]
  },
  {
   "cell_type": "code",
   "execution_count": 275,
   "id": "4f727110-3554-4b74-bcf0-1cb8362d8312",
   "metadata": {
    "tags": []
   },
   "outputs": [],
   "source": [
    "median_users_td = get_users_transform_data(metric=\"median\")"
   ]
  },
  {
   "cell_type": "code",
   "execution_count": 276,
   "id": "347487d3-385f-40c2-836f-ad6c06ee9007",
   "metadata": {
    "tags": []
   },
   "outputs": [],
   "source": [
    "train_X, test_X, train_Y, test_Y = get_train_test_data(median_users_td)"
   ]
  },
  {
   "cell_type": "code",
   "execution_count": 277,
   "id": "70133801-ca30-46e1-8a79-e926f7bf4a4f",
   "metadata": {
    "tags": []
   },
   "outputs": [
    {
     "name": "stderr",
     "output_type": "stream",
     "text": [
      "d:\\pycharmprojects\\bisnessml\\venv\\lib\\site-packages\\sklearn\\utils\\validation.py:993: DataConversionWarning: A column-vector y was passed when a 1d array was expected. Please change the shape of y to (n_samples, ), for example using ravel().\n",
      "  y = column_or_1d(y, warn=True)\n"
     ]
    },
    {
     "data": {
      "text/plain": [
       "LogisticRegression()"
      ]
     },
     "execution_count": 277,
     "metadata": {},
     "output_type": "execute_result"
    }
   ],
   "source": [
    "model_median = LogisticRegression()\n",
    "model_median.fit(train_X, train_Y)"
   ]
  },
  {
   "cell_type": "code",
   "execution_count": 278,
   "id": "a4111c42-1b63-4847-8717-f60c094e8534",
   "metadata": {
    "tags": []
   },
   "outputs": [
    {
     "data": {
      "text/plain": [
       "array([0.00280045, 0.04276557, 0.02879624, 0.01408472, 0.24368406,\n",
       "       0.13067769, 0.01381709, 0.15834879, 0.5195974 , 0.04819645])"
      ]
     },
     "execution_count": 278,
     "metadata": {},
     "output_type": "execute_result"
    }
   ],
   "source": [
    "preds = model_median.predict_proba(test_X)[:, 1]\n",
    "preds[:10]"
   ]
  },
  {
   "cell_type": "code",
   "execution_count": 279,
   "id": "7b0c32f8-6506-42a6-9906-0d56b0cf71db",
   "metadata": {
    "tags": []
   },
   "outputs": [
    {
     "name": "stdout",
     "output_type": "stream",
     "text": [
      "Best Threshold=0.262259, F-Score=0.709, Precision=0.643, Recall=0.789\n",
      "Confusion matrix, without normalization\n",
      "[[2157  147]\n",
      " [  72  264]]\n"
     ]
    },
    {
     "data": {
      "image/png": "[encoded data removed]",
      "text/plain": [
       "<Figure size 1000x800 with 2 Axes>"
      ]
     },
     "metadata": {},
     "output_type": "display_data"
    },
    {
     "name": "stdout",
     "output_type": "stream",
     "text": [
      "roc_auc_score = 0.9504071593915343\n"
     ]
    }
   ],
   "source": [
    "prf_median = PRF_score(model=model_median, test_X=test_X, test_Y=test_Y)\n",
    "prf_median.start()"
   ]
  },
  {
   "cell_type": "markdown",
   "id": "3dde242b-03b6-4ad4-92f0-f47b517e3d1d",
   "metadata": {},
   "source": [
    "## Task 3"
   ]
  },
  {
   "cell_type": "markdown",
   "id": "d7d05e71-cba5-4bc7-8e94-662dcd17ede4",
   "metadata": {},
   "source": [
    "### change metric to max"
   ]
  },
  {
   "cell_type": "code",
   "execution_count": 280,
   "id": "777d6b53-f22d-42d7-8a2a-1c939ee5d938",
   "metadata": {
    "tags": []
   },
   "outputs": [],
   "source": [
    "max_users_td = get_users_transform_data(metric=\"max\")"
   ]
  },
  {
   "cell_type": "code",
   "execution_count": 281,
   "id": "5a894fdf-605e-4b70-bbd8-d28a22881f52",
   "metadata": {
    "tags": []
   },
   "outputs": [],
   "source": [
    "train_X, test_X, train_Y, test_Y = get_train_test_data(max_users_td)"
   ]
  },
  {
   "cell_type": "code",
   "execution_count": 282,
   "id": "d0926930-6949-4615-b38b-f64fe7289a9e",
   "metadata": {
    "tags": []
   },
   "outputs": [
    {
     "name": "stderr",
     "output_type": "stream",
     "text": [
      "d:\\pycharmprojects\\bisnessml\\venv\\lib\\site-packages\\sklearn\\utils\\validation.py:993: DataConversionWarning: A column-vector y was passed when a 1d array was expected. Please change the shape of y to (n_samples, ), for example using ravel().\n",
      "  y = column_or_1d(y, warn=True)\n"
     ]
    },
    {
     "data": {
      "text/plain": [
       "LogisticRegression()"
      ]
     },
     "execution_count": 282,
     "metadata": {},
     "output_type": "execute_result"
    }
   ],
   "source": [
    "model_max = LogisticRegression()\n",
    "model_max.fit(train_X, train_Y)"
   ]
  },
  {
   "cell_type": "code",
   "execution_count": 283,
   "id": "5f73c959-2289-4382-a426-d9fa3726db2b",
   "metadata": {
    "tags": []
   },
   "outputs": [
    {
     "data": {
      "text/plain": [
       "array([0.08402946, 0.99759275, 0.52852255, 0.99993111, 0.9988596 ,\n",
       "       0.90848904, 0.8133042 , 0.9971428 , 0.99737467, 0.95831306])"
      ]
     },
     "execution_count": 283,
     "metadata": {},
     "output_type": "execute_result"
    }
   ],
   "source": [
    "preds = model_median.predict_proba(test_X)[:, 1]\n",
    "preds[:10]"
   ]
  },
  {
   "cell_type": "code",
   "execution_count": 284,
   "id": "92a936f8-409a-47a4-b6ed-079fba201a2e",
   "metadata": {
    "tags": []
   },
   "outputs": [
    {
     "name": "stderr",
     "output_type": "stream",
     "text": [
      "d:\\pycharmprojects\\bisnessml\\venv\\lib\\site-packages\\ipykernel_launcher.py:14: RuntimeWarning: invalid value encountered in true_divide\n",
      "  \n"
     ]
    },
    {
     "name": "stdout",
     "output_type": "stream",
     "text": [
      "Best Threshold=0.999965, F-Score=nan, Precision=0.000, Recall=0.000\n",
      "Confusion matrix, without normalization\n",
      "[[2304    0]\n",
      " [ 336    0]]\n"
     ]
    },
    {
     "data": {
      "image/png": "[encoded data removed]",
      "text/plain": [
       "<Figure size 1000x800 with 2 Axes>"
      ]
     },
     "metadata": {},
     "output_type": "display_data"
    },
    {
     "name": "stdout",
     "output_type": "stream",
     "text": [
      "roc_auc_score = 0.9685717385912698\n"
     ]
    }
   ],
   "source": [
    "prf_max = PRF_score(model_max, test_X, test_Y)\n",
    "prf_max.start()"
   ]
  },
  {
   "cell_type": "markdown",
   "id": "0d21ed7d-c879-4751-a308-675807ab94a9",
   "metadata": {},
   "source": [
    "## Task 4"
   ]
  },
  {
   "cell_type": "markdown",
   "id": "4398d5e7-903a-4267-ab5b-ce96beed9182",
   "metadata": {},
   "source": [
    "### add idf"
   ]
  },
  {
   "cell_type": "code",
   "execution_count": 286,
   "id": "bb3d1740-8d4b-4850-9405-18f810b4022a",
   "metadata": {
    "tags": []
   },
   "outputs": [
    {
     "data": {
      "text/html": [
       "<div>\n",
       "<style scoped>\n",
       "    .dataframe tbody tr th:only-of-type {\n",
       "        vertical-align: middle;\n",
       "    }\n",
       "\n",
       "    .dataframe tbody tr th {\n",
       "        vertical-align: top;\n",
       "    }\n",
       "\n",
       "    .dataframe thead th {\n",
       "        text-align: right;\n",
       "    }\n",
       "</style>\n",
       "<table border=\"1\" class=\"dataframe\">\n",
       "  <thead>\n",
       "    <tr style=\"text-align: right;\">\n",
       "      <th></th>\n",
       "      <th>uid</th>\n",
       "      <th>articles</th>\n",
       "    </tr>\n",
       "  </thead>\n",
       "  <tbody>\n",
       "    <tr>\n",
       "      <th>0</th>\n",
       "      <td>u105138</td>\n",
       "      <td>[293672, 293328, 293001, 293622, 293126, 1852]</td>\n",
       "    </tr>\n",
       "    <tr>\n",
       "      <th>1</th>\n",
       "      <td>u108690</td>\n",
       "      <td>[3405, 1739, 2972, 1158, 1599, 322665]</td>\n",
       "    </tr>\n",
       "    <tr>\n",
       "      <th>2</th>\n",
       "      <td>u108339</td>\n",
       "      <td>[1845, 2009, 2356, 1424, 2939, 323389]</td>\n",
       "    </tr>\n",
       "    <tr>\n",
       "      <th>3</th>\n",
       "      <td>u101138</td>\n",
       "      <td>[5933, 6186, 5055, 6977, 5206, 488389]</td>\n",
       "    </tr>\n",
       "    <tr>\n",
       "      <th>4</th>\n",
       "      <td>u108248</td>\n",
       "      <td>[707, 1144, 2532, 2928, 3133, 324592]</td>\n",
       "    </tr>\n",
       "  </tbody>\n",
       "</table>\n",
       "</div>"
      ],
      "text/plain": [
       "       uid                                        articles\n",
       "0  u105138  [293672, 293328, 293001, 293622, 293126, 1852]\n",
       "1  u108690          [3405, 1739, 2972, 1158, 1599, 322665]\n",
       "2  u108339          [1845, 2009, 2356, 1424, 2939, 323389]\n",
       "3  u101138          [5933, 6186, 5055, 6977, 5206, 488389]\n",
       "4  u108248           [707, 1144, 2532, 2928, 3133, 324592]"
      ]
     },
     "execution_count": 286,
     "metadata": {},
     "output_type": "execute_result"
    }
   ],
   "source": [
    "# need to find idf for artices in users info\n",
    "\n",
    "users_df.head(5)"
   ]
  },
  {
   "cell_type": "code",
   "execution_count": 292,
   "id": "15888b40-0a28-44d5-8664-2990a3dc7f00",
   "metadata": {
    "tags": []
   },
   "outputs": [],
   "source": [
    "articles_df = users_df[\"articles\"].apply(lambda x: \" \".join(x[1:-1].split(\",\")))"
   ]
  },
  {
   "cell_type": "code",
   "execution_count": 293,
   "id": "f6144be0-a4a7-41bb-bd41-5382c79ff98d",
   "metadata": {
    "tags": []
   },
   "outputs": [
    {
     "data": {
      "text/plain": [
       "0    293672  293328  293001  293622  293126  1852\n",
       "1            3405  1739  2972  1158  1599  322665\n",
       "2            1845  2009  2356  1424  2939  323389\n",
       "3            5933  6186  5055  6977  5206  488389\n",
       "4             707  1144  2532  2928  3133  324592\n",
       "Name: articles, dtype: object"
      ]
     },
     "execution_count": 293,
     "metadata": {},
     "output_type": "execute_result"
    }
   ],
   "source": [
    "articles_df.head(5)"
   ]
  },
  {
   "cell_type": "code",
   "execution_count": 294,
   "id": "73ffe2c2-bc35-4806-a38c-aea45414f570",
   "metadata": {
    "tags": []
   },
   "outputs": [
    {
     "data": {
      "text/plain": [
       "TfidfVectorizer()"
      ]
     },
     "execution_count": 294,
     "metadata": {},
     "output_type": "execute_result"
    }
   ],
   "source": [
    "tfidf = TfidfVectorizer()\n",
    "tfidf.fit(articles_df)"
   ]
  },
  {
   "cell_type": "code",
   "execution_count": 296,
   "id": "63fbeb3f-34fc-4ff5-ab2f-5e18918ab5e1",
   "metadata": {
    "tags": []
   },
   "outputs": [
    {
     "data": {
      "text/plain": [
       "array([8.88870952, 7.90788027, 8.04141166, ..., 8.60102745, 9.29417463,\n",
       "       8.60102745])"
      ]
     },
     "execution_count": 296,
     "metadata": {},
     "output_type": "execute_result"
    }
   ],
   "source": [
    "tfidf.idf_"
   ]
  },
  {
   "cell_type": "code",
   "execution_count": 326,
   "id": "04d14772-ba90-4959-895f-0555f9ca7f63",
   "metadata": {
    "tags": []
   },
   "outputs": [
    {
     "name": "stderr",
     "output_type": "stream",
     "text": [
      "d:\\pycharmprojects\\bisnessml\\venv\\lib\\site-packages\\sklearn\\utils\\deprecation.py:87: FutureWarning: Function get_feature_names is deprecated; get_feature_names is deprecated in 1.0 and will be removed in 1.2. Please use get_feature_names_out instead.\n",
      "  warnings.warn(msg, category=FutureWarning)\n"
     ]
    }
   ],
   "source": [
    "result_df = pd.DataFrame({'article_id': map(int, tfidf.get_feature_names()), 'idf': tfidf.idf_})"
   ]
  },
  {
   "cell_type": "code",
   "execution_count": 327,
   "id": "14c0ef50-d55d-48b6-bba9-86cf7a87db7f",
   "metadata": {
    "tags": []
   },
   "outputs": [
    {
     "data": {
      "text/html": [
       "<div>\n",
       "<style scoped>\n",
       "    .dataframe tbody tr th:only-of-type {\n",
       "        vertical-align: middle;\n",
       "    }\n",
       "\n",
       "    .dataframe tbody tr th {\n",
       "        vertical-align: top;\n",
       "    }\n",
       "\n",
       "    .dataframe thead th {\n",
       "        text-align: right;\n",
       "    }\n",
       "</style>\n",
       "<table border=\"1\" class=\"dataframe\">\n",
       "  <thead>\n",
       "    <tr style=\"text-align: right;\">\n",
       "      <th></th>\n",
       "      <th>article_id</th>\n",
       "      <th>idf</th>\n",
       "    </tr>\n",
       "  </thead>\n",
       "  <tbody>\n",
       "    <tr>\n",
       "      <th>0</th>\n",
       "      <td>10</td>\n",
       "      <td>8.888710</td>\n",
       "    </tr>\n",
       "    <tr>\n",
       "      <th>1</th>\n",
       "      <td>100</td>\n",
       "      <td>7.907880</td>\n",
       "    </tr>\n",
       "    <tr>\n",
       "      <th>2</th>\n",
       "      <td>1000</td>\n",
       "      <td>8.041412</td>\n",
       "    </tr>\n",
       "    <tr>\n",
       "      <th>3</th>\n",
       "      <td>1001</td>\n",
       "      <td>8.888710</td>\n",
       "    </tr>\n",
       "    <tr>\n",
       "      <th>4</th>\n",
       "      <td>1002</td>\n",
       "      <td>8.888710</td>\n",
       "    </tr>\n",
       "    <tr>\n",
       "      <th>...</th>\n",
       "      <td>...</td>\n",
       "      <td>...</td>\n",
       "    </tr>\n",
       "    <tr>\n",
       "      <th>14776</th>\n",
       "      <td>995</td>\n",
       "      <td>8.377884</td>\n",
       "    </tr>\n",
       "    <tr>\n",
       "      <th>14777</th>\n",
       "      <td>996</td>\n",
       "      <td>8.195562</td>\n",
       "    </tr>\n",
       "    <tr>\n",
       "      <th>14778</th>\n",
       "      <td>997</td>\n",
       "      <td>8.601027</td>\n",
       "    </tr>\n",
       "    <tr>\n",
       "      <th>14779</th>\n",
       "      <td>998</td>\n",
       "      <td>9.294175</td>\n",
       "    </tr>\n",
       "    <tr>\n",
       "      <th>14780</th>\n",
       "      <td>999</td>\n",
       "      <td>8.601027</td>\n",
       "    </tr>\n",
       "  </tbody>\n",
       "</table>\n",
       "<p>14781 rows × 2 columns</p>\n",
       "</div>"
      ],
      "text/plain": [
       "       article_id       idf\n",
       "0              10  8.888710\n",
       "1             100  7.907880\n",
       "2            1000  8.041412\n",
       "3            1001  8.888710\n",
       "4            1002  8.888710\n",
       "...           ...       ...\n",
       "14776         995  8.377884\n",
       "14777         996  8.195562\n",
       "14778         997  8.601027\n",
       "14779         998  9.294175\n",
       "14780         999  8.601027\n",
       "\n",
       "[14781 rows x 2 columns]"
      ]
     },
     "execution_count": 327,
     "metadata": {},
     "output_type": "execute_result"
    }
   ],
   "source": [
    "result_df"
   ]
  },
  {
   "cell_type": "markdown",
   "id": "fb58038d-973c-4aef-804b-326960b03b27",
   "metadata": {},
   "source": [
    "### Update get_user_matrix function"
   ]
  },
  {
   "cell_type": "code",
   "execution_count": 328,
   "id": "1f025a60-689c-4e64-9bd1-dcb43e01ac6c",
   "metadata": {
    "tags": []
   },
   "outputs": [],
   "source": [
    "# need multiply user_vectors to article idf"
   ]
  },
  {
   "cell_type": "code",
   "execution_count": 382,
   "id": "d8e184f6-8457-48c0-8569-bc4361729156",
   "metadata": {
    "tags": []
   },
   "outputs": [],
   "source": [
    "def get_user_matrix_with_idf(articles, articles_idf, metric=\"mean\"):\n",
    "    user_vectors = []\n",
    "    for article in articles:\n",
    "        articles_id = list(map(int, article[1:-1].split(\",\")))\n",
    "        transform_data = transform_df[transform_df[\"doc_id\"].isin(articles_id)].drop(columns=[\"doc_id\"]).to_numpy()\n",
    "        idf_info = articles_idf[articles_idf[\"article_id\"].isin(articles_id)].drop(columns=[\"article_id\"]).to_numpy()\n",
    "        if idf_info.shape[0] == transform_data.shape[0]:\n",
    "            transform_data *= idf_info\n",
    "            if metric == \"mean\":\n",
    "                user_vector = transform_data.mean(axis=0)\n",
    "            elif metric == \"median\":\n",
    "                user_vector = np.median(transform_data, axis=0)\n",
    "            else:\n",
    "                user_vector = transform_data.max(axis=0)\n",
    "\n",
    "            user_vectors.append(user_vector)\n",
    "        \n",
    "    return np.asarray(user_vectors)"
   ]
  },
  {
   "cell_type": "code",
   "execution_count": 383,
   "id": "c22c98d5-8932-4f06-8470-e6a386d0ef4c",
   "metadata": {
    "tags": []
   },
   "outputs": [],
   "source": [
    "def get_users_transform_data_with_idf(metric=\"mean\"):\n",
    "    users_articles = users_df[\"articles\"].values\n",
    "    users_matrix = get_user_matrix_with_idf(users_articles, metric=metric, articles_idf=result_df)\n",
    "    users_transform_data = pd.DataFrame(users_matrix, columns=[f\"topic_{i}\" for i in range(topics)])\n",
    "    users_transform_data[\"uid\"] = users_df[\"uid\"]\n",
    "    \n",
    "    return users_transform_data"
   ]
  },
  {
   "cell_type": "code",
   "execution_count": 384,
   "id": "f6487135-6ee5-4a36-b7d8-3dec1e1a5dca",
   "metadata": {
    "tags": []
   },
   "outputs": [],
   "source": [
    "users_matrix_with_idf = get_users_transform_data_with_idf()"
   ]
  },
  {
   "cell_type": "code",
   "execution_count": 385,
   "id": "cb769b23-9133-4e3f-b655-2a4aa67968be",
   "metadata": {
    "tags": []
   },
   "outputs": [
    {
     "data": {
      "text/html": [
       "<div>\n",
       "<style scoped>\n",
       "    .dataframe tbody tr th:only-of-type {\n",
       "        vertical-align: middle;\n",
       "    }\n",
       "\n",
       "    .dataframe tbody tr th {\n",
       "        vertical-align: top;\n",
       "    }\n",
       "\n",
       "    .dataframe thead th {\n",
       "        text-align: right;\n",
       "    }\n",
       "</style>\n",
       "<table border=\"1\" class=\"dataframe\">\n",
       "  <thead>\n",
       "    <tr style=\"text-align: right;\">\n",
       "      <th></th>\n",
       "      <th>topic_0</th>\n",
       "      <th>topic_1</th>\n",
       "      <th>topic_2</th>\n",
       "      <th>topic_3</th>\n",
       "      <th>topic_4</th>\n",
       "      <th>topic_5</th>\n",
       "      <th>topic_6</th>\n",
       "      <th>topic_7</th>\n",
       "      <th>topic_8</th>\n",
       "      <th>topic_9</th>\n",
       "      <th>...</th>\n",
       "      <th>topic_16</th>\n",
       "      <th>topic_17</th>\n",
       "      <th>topic_18</th>\n",
       "      <th>topic_19</th>\n",
       "      <th>topic_20</th>\n",
       "      <th>topic_21</th>\n",
       "      <th>topic_22</th>\n",
       "      <th>topic_23</th>\n",
       "      <th>topic_24</th>\n",
       "      <th>uid</th>\n",
       "    </tr>\n",
       "  </thead>\n",
       "  <tbody>\n",
       "    <tr>\n",
       "      <th>0</th>\n",
       "      <td>0.157023</td>\n",
       "      <td>0.000000</td>\n",
       "      <td>0.000000</td>\n",
       "      <td>0.057076</td>\n",
       "      <td>0.043470</td>\n",
       "      <td>1.046999</td>\n",
       "      <td>0.101632</td>\n",
       "      <td>0.571685</td>\n",
       "      <td>0.000000</td>\n",
       "      <td>1.847260</td>\n",
       "      <td>...</td>\n",
       "      <td>0.095275</td>\n",
       "      <td>0.000000</td>\n",
       "      <td>0.000000</td>\n",
       "      <td>0.000000</td>\n",
       "      <td>0.181426</td>\n",
       "      <td>0.000000</td>\n",
       "      <td>0.086480</td>\n",
       "      <td>0.076497</td>\n",
       "      <td>0.000000</td>\n",
       "      <td>u105138</td>\n",
       "    </tr>\n",
       "    <tr>\n",
       "      <th>1</th>\n",
       "      <td>0.253644</td>\n",
       "      <td>0.000000</td>\n",
       "      <td>0.000000</td>\n",
       "      <td>0.000000</td>\n",
       "      <td>0.020829</td>\n",
       "      <td>0.502363</td>\n",
       "      <td>0.031292</td>\n",
       "      <td>0.000000</td>\n",
       "      <td>0.000000</td>\n",
       "      <td>1.618174</td>\n",
       "      <td>...</td>\n",
       "      <td>0.084491</td>\n",
       "      <td>0.120325</td>\n",
       "      <td>0.074808</td>\n",
       "      <td>0.141888</td>\n",
       "      <td>0.141637</td>\n",
       "      <td>0.000000</td>\n",
       "      <td>0.444362</td>\n",
       "      <td>0.037043</td>\n",
       "      <td>0.000000</td>\n",
       "      <td>u108690</td>\n",
       "    </tr>\n",
       "    <tr>\n",
       "      <th>2</th>\n",
       "      <td>0.089215</td>\n",
       "      <td>0.290347</td>\n",
       "      <td>0.025775</td>\n",
       "      <td>0.036720</td>\n",
       "      <td>0.086230</td>\n",
       "      <td>0.419973</td>\n",
       "      <td>0.000000</td>\n",
       "      <td>0.257441</td>\n",
       "      <td>0.021054</td>\n",
       "      <td>2.812853</td>\n",
       "      <td>...</td>\n",
       "      <td>0.160442</td>\n",
       "      <td>0.130389</td>\n",
       "      <td>0.000000</td>\n",
       "      <td>0.044918</td>\n",
       "      <td>0.326804</td>\n",
       "      <td>0.000000</td>\n",
       "      <td>0.066499</td>\n",
       "      <td>0.000000</td>\n",
       "      <td>0.000000</td>\n",
       "      <td>u108339</td>\n",
       "    </tr>\n",
       "    <tr>\n",
       "      <th>3</th>\n",
       "      <td>0.209212</td>\n",
       "      <td>0.000000</td>\n",
       "      <td>0.080728</td>\n",
       "      <td>0.000000</td>\n",
       "      <td>0.780666</td>\n",
       "      <td>0.033634</td>\n",
       "      <td>0.018402</td>\n",
       "      <td>0.437314</td>\n",
       "      <td>1.082556</td>\n",
       "      <td>0.991887</td>\n",
       "      <td>...</td>\n",
       "      <td>0.000000</td>\n",
       "      <td>0.015854</td>\n",
       "      <td>0.097335</td>\n",
       "      <td>0.192077</td>\n",
       "      <td>0.028479</td>\n",
       "      <td>0.234135</td>\n",
       "      <td>2.204689</td>\n",
       "      <td>0.000000</td>\n",
       "      <td>0.096344</td>\n",
       "      <td>u101138</td>\n",
       "    </tr>\n",
       "    <tr>\n",
       "      <th>4</th>\n",
       "      <td>0.441515</td>\n",
       "      <td>0.041850</td>\n",
       "      <td>0.000000</td>\n",
       "      <td>0.092162</td>\n",
       "      <td>0.020898</td>\n",
       "      <td>0.180583</td>\n",
       "      <td>0.000000</td>\n",
       "      <td>0.259449</td>\n",
       "      <td>0.029581</td>\n",
       "      <td>2.123718</td>\n",
       "      <td>...</td>\n",
       "      <td>0.047510</td>\n",
       "      <td>0.000000</td>\n",
       "      <td>0.019950</td>\n",
       "      <td>0.343680</td>\n",
       "      <td>0.184641</td>\n",
       "      <td>0.000000</td>\n",
       "      <td>0.464460</td>\n",
       "      <td>0.020526</td>\n",
       "      <td>0.068221</td>\n",
       "      <td>u108248</td>\n",
       "    </tr>\n",
       "    <tr>\n",
       "      <th>...</th>\n",
       "      <td>...</td>\n",
       "      <td>...</td>\n",
       "      <td>...</td>\n",
       "      <td>...</td>\n",
       "      <td>...</td>\n",
       "      <td>...</td>\n",
       "      <td>...</td>\n",
       "      <td>...</td>\n",
       "      <td>...</td>\n",
       "      <td>...</td>\n",
       "      <td>...</td>\n",
       "      <td>...</td>\n",
       "      <td>...</td>\n",
       "      <td>...</td>\n",
       "      <td>...</td>\n",
       "      <td>...</td>\n",
       "      <td>...</td>\n",
       "      <td>...</td>\n",
       "      <td>...</td>\n",
       "      <td>...</td>\n",
       "      <td>...</td>\n",
       "    </tr>\n",
       "    <tr>\n",
       "      <th>7973</th>\n",
       "      <td>0.058599</td>\n",
       "      <td>0.046115</td>\n",
       "      <td>0.000000</td>\n",
       "      <td>0.000000</td>\n",
       "      <td>0.000000</td>\n",
       "      <td>0.251880</td>\n",
       "      <td>0.015632</td>\n",
       "      <td>0.000000</td>\n",
       "      <td>0.082299</td>\n",
       "      <td>1.540949</td>\n",
       "      <td>...</td>\n",
       "      <td>0.327920</td>\n",
       "      <td>0.032123</td>\n",
       "      <td>0.015552</td>\n",
       "      <td>0.000000</td>\n",
       "      <td>0.257956</td>\n",
       "      <td>0.000000</td>\n",
       "      <td>0.031187</td>\n",
       "      <td>0.000000</td>\n",
       "      <td>0.000000</td>\n",
       "      <td>u104679</td>\n",
       "    </tr>\n",
       "    <tr>\n",
       "      <th>7974</th>\n",
       "      <td>0.049608</td>\n",
       "      <td>0.000000</td>\n",
       "      <td>0.000000</td>\n",
       "      <td>0.000000</td>\n",
       "      <td>0.000000</td>\n",
       "      <td>0.689245</td>\n",
       "      <td>0.000000</td>\n",
       "      <td>3.154037</td>\n",
       "      <td>1.229533</td>\n",
       "      <td>0.281662</td>\n",
       "      <td>...</td>\n",
       "      <td>0.000000</td>\n",
       "      <td>0.584828</td>\n",
       "      <td>0.000000</td>\n",
       "      <td>0.364386</td>\n",
       "      <td>0.000000</td>\n",
       "      <td>0.000000</td>\n",
       "      <td>0.275907</td>\n",
       "      <td>0.000000</td>\n",
       "      <td>0.000000</td>\n",
       "      <td>u108275</td>\n",
       "    </tr>\n",
       "    <tr>\n",
       "      <th>7975</th>\n",
       "      <td>0.093121</td>\n",
       "      <td>0.207619</td>\n",
       "      <td>0.015098</td>\n",
       "      <td>0.066279</td>\n",
       "      <td>0.023719</td>\n",
       "      <td>0.277632</td>\n",
       "      <td>0.000000</td>\n",
       "      <td>0.333542</td>\n",
       "      <td>0.044442</td>\n",
       "      <td>1.566501</td>\n",
       "      <td>...</td>\n",
       "      <td>0.095759</td>\n",
       "      <td>0.000000</td>\n",
       "      <td>0.000000</td>\n",
       "      <td>0.000000</td>\n",
       "      <td>0.536255</td>\n",
       "      <td>0.000000</td>\n",
       "      <td>0.373750</td>\n",
       "      <td>0.000000</td>\n",
       "      <td>0.000000</td>\n",
       "      <td>u107255</td>\n",
       "    </tr>\n",
       "    <tr>\n",
       "      <th>7976</th>\n",
       "      <td>1.113195</td>\n",
       "      <td>0.025774</td>\n",
       "      <td>0.000000</td>\n",
       "      <td>0.000000</td>\n",
       "      <td>0.000000</td>\n",
       "      <td>1.085127</td>\n",
       "      <td>0.000000</td>\n",
       "      <td>1.273165</td>\n",
       "      <td>1.232465</td>\n",
       "      <td>0.997691</td>\n",
       "      <td>...</td>\n",
       "      <td>0.127522</td>\n",
       "      <td>0.053723</td>\n",
       "      <td>0.200512</td>\n",
       "      <td>0.075571</td>\n",
       "      <td>0.082949</td>\n",
       "      <td>0.319763</td>\n",
       "      <td>0.714075</td>\n",
       "      <td>0.000000</td>\n",
       "      <td>0.019672</td>\n",
       "      <td>u108574</td>\n",
       "    </tr>\n",
       "    <tr>\n",
       "      <th>7977</th>\n",
       "      <td>1.885484</td>\n",
       "      <td>0.000000</td>\n",
       "      <td>0.000000</td>\n",
       "      <td>0.000000</td>\n",
       "      <td>0.058282</td>\n",
       "      <td>0.608135</td>\n",
       "      <td>0.407649</td>\n",
       "      <td>0.251198</td>\n",
       "      <td>0.670022</td>\n",
       "      <td>1.015836</td>\n",
       "      <td>...</td>\n",
       "      <td>0.138676</td>\n",
       "      <td>0.020344</td>\n",
       "      <td>0.000000</td>\n",
       "      <td>0.000000</td>\n",
       "      <td>0.087346</td>\n",
       "      <td>0.000000</td>\n",
       "      <td>0.501357</td>\n",
       "      <td>0.000000</td>\n",
       "      <td>0.022406</td>\n",
       "      <td>u108925</td>\n",
       "    </tr>\n",
       "  </tbody>\n",
       "</table>\n",
       "<p>7978 rows × 26 columns</p>\n",
       "</div>"
      ],
      "text/plain": [
       "       topic_0   topic_1   topic_2   topic_3   topic_4   topic_5   topic_6  \\\n",
       "0     0.157023  0.000000  0.000000  0.057076  0.043470  1.046999  0.101632   \n",
       "1     0.253644  0.000000  0.000000  0.000000  0.020829  0.502363  0.031292   \n",
       "2     0.089215  0.290347  0.025775  0.036720  0.086230  0.419973  0.000000   \n",
       "3     0.209212  0.000000  0.080728  0.000000  0.780666  0.033634  0.018402   \n",
       "4     0.441515  0.041850  0.000000  0.092162  0.020898  0.180583  0.000000   \n",
       "...        ...       ...       ...       ...       ...       ...       ...   \n",
       "7973  0.058599  0.046115  0.000000  0.000000  0.000000  0.251880  0.015632   \n",
       "7974  0.049608  0.000000  0.000000  0.000000  0.000000  0.689245  0.000000   \n",
       "7975  0.093121  0.207619  0.015098  0.066279  0.023719  0.277632  0.000000   \n",
       "7976  1.113195  0.025774  0.000000  0.000000  0.000000  1.085127  0.000000   \n",
       "7977  1.885484  0.000000  0.000000  0.000000  0.058282  0.608135  0.407649   \n",
       "\n",
       "       topic_7   topic_8   topic_9  ...  topic_16  topic_17  topic_18  \\\n",
       "0     0.571685  0.000000  1.847260  ...  0.095275  0.000000  0.000000   \n",
       "1     0.000000  0.000000  1.618174  ...  0.084491  0.120325  0.074808   \n",
       "2     0.257441  0.021054  2.812853  ...  0.160442  0.130389  0.000000   \n",
       "3     0.437314  1.082556  0.991887  ...  0.000000  0.015854  0.097335   \n",
       "4     0.259449  0.029581  2.123718  ...  0.047510  0.000000  0.019950   \n",
       "...        ...       ...       ...  ...       ...       ...       ...   \n",
       "7973  0.000000  0.082299  1.540949  ...  0.327920  0.032123  0.015552   \n",
       "7974  3.154037  1.229533  0.281662  ...  0.000000  0.584828  0.000000   \n",
       "7975  0.333542  0.044442  1.566501  ...  0.095759  0.000000  0.000000   \n",
       "7976  1.273165  1.232465  0.997691  ...  0.127522  0.053723  0.200512   \n",
       "7977  0.251198  0.670022  1.015836  ...  0.138676  0.020344  0.000000   \n",
       "\n",
       "      topic_19  topic_20  topic_21  topic_22  topic_23  topic_24      uid  \n",
       "0     0.000000  0.181426  0.000000  0.086480  0.076497  0.000000  u105138  \n",
       "1     0.141888  0.141637  0.000000  0.444362  0.037043  0.000000  u108690  \n",
       "2     0.044918  0.326804  0.000000  0.066499  0.000000  0.000000  u108339  \n",
       "3     0.192077  0.028479  0.234135  2.204689  0.000000  0.096344  u101138  \n",
       "4     0.343680  0.184641  0.000000  0.464460  0.020526  0.068221  u108248  \n",
       "...        ...       ...       ...       ...       ...       ...      ...  \n",
       "7973  0.000000  0.257956  0.000000  0.031187  0.000000  0.000000  u104679  \n",
       "7974  0.364386  0.000000  0.000000  0.275907  0.000000  0.000000  u108275  \n",
       "7975  0.000000  0.536255  0.000000  0.373750  0.000000  0.000000  u107255  \n",
       "7976  0.075571  0.082949  0.319763  0.714075  0.000000  0.019672  u108574  \n",
       "7977  0.000000  0.087346  0.000000  0.501357  0.000000  0.022406  u108925  \n",
       "\n",
       "[7978 rows x 26 columns]"
      ]
     },
     "execution_count": 385,
     "metadata": {},
     "output_type": "execute_result"
    }
   ],
   "source": [
    "users_matrix_with_idf"
   ]
  },
  {
   "cell_type": "code",
   "execution_count": 386,
   "id": "34bd7e18-be4f-4573-84c5-b189a0f3d6eb",
   "metadata": {
    "tags": []
   },
   "outputs": [],
   "source": [
    "train_X, test_X, train_Y, test_Y = get_train_test_data(users_matrix_with_idf)"
   ]
  },
  {
   "cell_type": "code",
   "execution_count": 387,
   "id": "93d50447-c556-4daa-a00b-30d3dd2c2557",
   "metadata": {
    "tags": []
   },
   "outputs": [
    {
     "name": "stderr",
     "output_type": "stream",
     "text": [
      "d:\\pycharmprojects\\bisnessml\\venv\\lib\\site-packages\\sklearn\\utils\\validation.py:993: DataConversionWarning: A column-vector y was passed when a 1d array was expected. Please change the shape of y to (n_samples, ), for example using ravel().\n",
      "  y = column_or_1d(y, warn=True)\n",
      "d:\\pycharmprojects\\bisnessml\\venv\\lib\\site-packages\\sklearn\\linear_model\\_logistic.py:818: ConvergenceWarning: lbfgs failed to converge (status=1):\n",
      "STOP: TOTAL NO. of ITERATIONS REACHED LIMIT.\n",
      "\n",
      "Increase the number of iterations (max_iter) or scale the data as shown in:\n",
      "    https://scikit-learn.org/stable/modules/preprocessing.html\n",
      "Please also refer to the documentation for alternative solver options:\n",
      "    https://scikit-learn.org/stable/modules/linear_model.html#logistic-regression\n",
      "  extra_warning_msg=_LOGISTIC_SOLVER_CONVERGENCE_MSG,\n"
     ]
    },
    {
     "data": {
      "text/plain": [
       "LogisticRegression()"
      ]
     },
     "execution_count": 387,
     "metadata": {},
     "output_type": "execute_result"
    }
   ],
   "source": [
    "model_idf = LogisticRegression()\n",
    "model_idf.fit(train_X, train_Y)"
   ]
  },
  {
   "cell_type": "code",
   "execution_count": 388,
   "id": "54c9984a-cf25-4a61-aa2a-e4168537dec3",
   "metadata": {
    "tags": []
   },
   "outputs": [
    {
     "data": {
      "text/plain": [
       "array([0.13354156, 0.12527831, 0.12324886, ..., 0.14474907, 0.12896229,\n",
       "       0.11545271])"
      ]
     },
     "execution_count": 388,
     "metadata": {},
     "output_type": "execute_result"
    }
   ],
   "source": [
    "preds = model_idf.predict_proba(test_X)[:, 1]\n",
    "preds"
   ]
  },
  {
   "cell_type": "code",
   "execution_count": 389,
   "id": "bd1fb21e-4ea9-4ab3-b1bc-2c01ae2deb22",
   "metadata": {
    "tags": []
   },
   "outputs": [
    {
     "name": "stderr",
     "output_type": "stream",
     "text": [
      "d:\\pycharmprojects\\bisnessml\\venv\\lib\\site-packages\\ipykernel_launcher.py:14: RuntimeWarning: invalid value encountered in true_divide\n",
      "  \n"
     ]
    },
    {
     "name": "stdout",
     "output_type": "stream",
     "text": [
      "Best Threshold=0.196809, F-Score=nan, Precision=0.000, Recall=0.000\n",
      "Confusion matrix, without normalization\n",
      "[[2287   10]\n",
      " [ 336    0]]\n"
     ]
    },
    {
     "data": {
      "image/png": "[encoded data removed]",
      "text/plain": [
       "<Figure size 1000x800 with 2 Axes>"
      ]
     },
     "metadata": {},
     "output_type": "display_data"
    },
    {
     "name": "stdout",
     "output_type": "stream",
     "text": [
      "roc_auc_score = 0.5457208677985779\n"
     ]
    }
   ],
   "source": [
    "prf_idf = PRF_score(model_idf, test_X=test_X, test_Y=test_Y)\n",
    "prf_idf.start()"
   ]
  },
  {
   "cell_type": "code",
   "execution_count": null,
   "id": "1b71280d-77d5-484c-9a74-d70700dc817d",
   "metadata": {},
   "outputs": [],
   "source": []
  }
 ],
 "metadata": {
  "kernelspec": {
   "display_name": "Python 3 (ipykernel)",
   "language": "python",
   "name": "python3"
  },
  "language_info": {
   "codemirror_mode": {
    "name": "ipython",
    "version": 3
   },
   "file_extension": ".py",
   "mimetype": "text/x-python",
   "name": "python",
   "nbconvert_exporter": "python",
   "pygments_lexer": "ipython3",
   "version": "3.7.4"
  },
  "toc-autonumbering": false,
  "toc-showcode": false,
  "toc-showmarkdowntxt": true
 },
 "nbformat": 4,
 "nbformat_minor": 5
}
